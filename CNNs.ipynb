{
  "nbformat": 4,
  "nbformat_minor": 0,
  "metadata": {
    "colab": {
      "private_outputs": true,
      "provenance": []
    },
    "kernelspec": {
      "name": "python3",
      "display_name": "Python 3"
    },
    "accelerator": "GPU"
  },
  "cells": [
    {
      "cell_type": "code",
      "metadata": {
        "id": "BEidhqk4k-13"
      },
      "source": [
        "import numpy as np\n",
        "import matplotlib\n",
        "import matplotlib.pyplot as plt\n",
        "import torch\n",
        "import torchvision\n",
        "%matplotlib inline\n",
        "matplotlib.rcParams['figure.facecolor']='white'"
      ],
      "execution_count": null,
      "outputs": []
    },
    {
      "cell_type": "code",
      "metadata": {
        "id": "F_JY_vc7lNSK"
      },
      "source": [
        "dataset=torchvision.datasets.MNIST(root=\"data/\",download=True,transform=torchvision.transforms.ToTensor())"
      ],
      "execution_count": null,
      "outputs": []
    },
    {
      "cell_type": "code",
      "metadata": {
        "id": "48xicz19lU2u"
      },
      "source": [
        "len(dataset)"
      ],
      "execution_count": null,
      "outputs": []
    },
    {
      "cell_type": "code",
      "metadata": {
        "id": "KWPxzFhIlVsx"
      },
      "source": [
        "type(dataset)"
      ],
      "execution_count": null,
      "outputs": []
    },
    {
      "cell_type": "code",
      "metadata": {
        "id": "aX3jv7AOlW51"
      },
      "source": [
        "image,label=dataset[193]\n",
        "plt.imshow(image[0],cmap='gray')\n",
        "plt.title(label)\n",
        "plt.show()"
      ],
      "execution_count": null,
      "outputs": []
    },
    {
      "cell_type": "code",
      "metadata": {
        "id": "USUsfXVbld01"
      },
      "source": [
        "val_size=10000\n",
        "train_size=len(dataset)-val_size\n",
        "train_ds,val_ds=torch.utils.data.random_split(dataset,(train_size,val_size))"
      ],
      "execution_count": null,
      "outputs": []
    },
    {
      "cell_type": "code",
      "metadata": {
        "id": "bz4obyYAlxyE"
      },
      "source": [
        "len(train_ds)"
      ],
      "execution_count": null,
      "outputs": []
    },
    {
      "cell_type": "code",
      "metadata": {
        "id": "Hx-i8LBily22"
      },
      "source": [
        "len(val_ds)"
      ],
      "execution_count": null,
      "outputs": []
    },
    {
      "cell_type": "code",
      "metadata": {
        "id": "-XP-wvVHl0C9"
      },
      "source": [
        "test_dataset=torchvision.datasets.MNIST(root=\"data/\",train=False,transform=torchvision.transforms.ToTensor())"
      ],
      "execution_count": null,
      "outputs": []
    },
    {
      "cell_type": "code",
      "metadata": {
        "id": "Ztxsvoeil9hn"
      },
      "source": [
        "batch_size=64\n",
        "train_dataloader=torch.utils.data.DataLoader(train_ds,batch_size,shuffle=True,pin_memory=True,num_workers=4)\n",
        "val_dataloader=torch.utils.data.DataLoader(val_ds,batch_size,shuffle=True,pin_memory=True,num_workers=4)\n",
        "test_dataloader=torch.utils.data.DataLoader(test_dataset,batch_size,shuffle=True,pin_memory=True,num_workers=4)"
      ],
      "execution_count": null,
      "outputs": []
    },
    {
      "cell_type": "code",
      "metadata": {
        "id": "mPb6MJYGmh2L"
      },
      "source": [
        "for batch in train_dataloader:\n",
        "    images,labels=batch\n",
        "    print(images.shape)\n",
        "    plt.imshow(images[0,0],cmap=\"gray\")\n",
        "    plt.show()\n",
        "    print(labels[0].item())\n",
        "    break"
      ],
      "execution_count": null,
      "outputs": []
    },
    {
      "cell_type": "code",
      "metadata": {
        "id": "7XobArGbnUm4"
      },
      "source": [
        "images_=torchvision.utils.make_grid(images,nrow=8)\n",
        "images_=images_.permute(1,2,0)\n",
        "plt.imshow(images_,cmap='gray')\n",
        "plt.figure(figsize=(1,1))\n",
        "plt.axis(\"off\")\n",
        "plt.show()"
      ],
      "execution_count": null,
      "outputs": []
    },
    {
      "cell_type": "code",
      "metadata": {
        "id": "o_xlir_gqgoW"
      },
      "source": [
        "def accuracy(pred,labels):\n",
        "    _,maxP=torch.max(pred,dim=1)\n",
        "    return torch.tensor(torch.sum(maxP==labels).item()/len(labels))"
      ],
      "execution_count": null,
      "outputs": []
    },
    {
      "cell_type": "code",
      "metadata": {
        "id": "3ML4afmHpSWf"
      },
      "source": [
        "class MnistModel(torch.nn.Module):\n",
        "    def __init__(self,input_size,hidden_size,output_size):\n",
        "        super().__init__()\n",
        "        self.layer1=torch.nn.Linear(input_size,hidden_size)\n",
        "        self.layer2=torch.nn.Linear(hidden_size,output_size)\n",
        "    def forward(self,X):\n",
        "        X=X.reshape(-1,784)\n",
        "        out=self.layer1(X)\n",
        "        out=torch.nn.functional.relu(out)\n",
        "        out=self.layer2(out)\n",
        "        return out\n",
        "    def training_step(self,batch):\n",
        "        images,labels=batch\n",
        "        out=self(images)\n",
        "        loss=torch.nn.functional.cross_entropy(out,labels)\n",
        "        return loss\n",
        "    def validation_step(self,batch):\n",
        "        images,labels=batch\n",
        "        out=self(images)\n",
        "        loss=torch.nn.functional.cross_entropy(out,labels)\n",
        "        acc=accuracy(out,labels)\n",
        "        return {\"val_acc\":acc,\"val_loss\":loss}\n",
        "    def validation_step_epoch(self,outputs):\n",
        "        loss_=[X[\"val_loss\"] for X in outputs]\n",
        "        loss__=torch.stack(loss_).mean()\n",
        "        acc_=[X[\"val_acc\"] for X in outputs]\n",
        "        acc__=torch.stack(acc_).mean()\n",
        "        return {\"val_loss\":loss__.item(),\"val_acc\":acc__.item()}\n",
        "    def epoch_end(self,epoch,result):\n",
        "        print(\"Epoch [{}] Accuracy: {:.4f} Loss: {:.4f}\".format(epoch,result[\"val_acc\"],result[\"val_loss\"]))"
      ],
      "execution_count": null,
      "outputs": []
    },
    {
      "cell_type": "code",
      "metadata": {
        "id": "RRg8d28dsMB5"
      },
      "source": [
        "def evaluate(model,val_dataloader):\n",
        "    outputs=[model.validation_step(batch) for batch in val_dataloader]\n",
        "    return model.validation_step_epoch(outputs)"
      ],
      "execution_count": null,
      "outputs": []
    },
    {
      "cell_type": "code",
      "metadata": {
        "id": "4PmLN8R0sdMK"
      },
      "source": [
        "def fit(model,epochs,lr,train_dataloader,val_dataloader,opt=torch.optim.SGD):\n",
        "    history=[]\n",
        "    optimizer=opt(model.parameters(),lr)\n",
        "    for epoch in range(epochs):\n",
        "        for batch in train_dataloader:\n",
        "            loss=model.training_step(batch)\n",
        "            loss.backward()\n",
        "            optimizer.step()\n",
        "            optimizer.zero_grad()\n",
        "        result=evaluate(model,val_dataloader)\n",
        "        model.epoch_end(epoch,result)\n",
        "        history.append(result)\n",
        "    return history"
      ],
      "execution_count": null,
      "outputs": []
    },
    {
      "cell_type": "code",
      "metadata": {
        "id": "JK0C0qb1tIym"
      },
      "source": [
        "input_size=784\n",
        "hidden_size=64\n",
        "output_size=10"
      ],
      "execution_count": null,
      "outputs": []
    },
    {
      "cell_type": "code",
      "metadata": {
        "id": "jDn4MgH6tNkR"
      },
      "source": [
        "model1=MnistModel(input_size,hidden_size,output_size)"
      ],
      "execution_count": null,
      "outputs": []
    },
    {
      "cell_type": "code",
      "metadata": {
        "id": "J-g2EcBitVSf"
      },
      "source": [
        "history=[evaluate(model1,val_dataloader)]\n",
        "history"
      ],
      "execution_count": null,
      "outputs": []
    },
    {
      "cell_type": "code",
      "metadata": {
        "id": "7LYggJantozw"
      },
      "source": [
        "history+=fit(model1,5,0.5,train_dataloader,val_dataloader)"
      ],
      "execution_count": null,
      "outputs": []
    },
    {
      "cell_type": "code",
      "metadata": {
        "id": "60J1ISm6uMc9"
      },
      "source": [
        "evaluate(model1,test_dataloader)"
      ],
      "execution_count": null,
      "outputs": []
    },
    {
      "cell_type": "code",
      "metadata": {
        "id": "7GecaHkGuRGd"
      },
      "source": [
        "torch.cuda.is_available()"
      ],
      "execution_count": null,
      "outputs": []
    },
    {
      "cell_type": "code",
      "metadata": {
        "id": "fr3d_pyJud2j"
      },
      "source": [
        "def get_default_device():\n",
        "    if torch.cuda.is_available():\n",
        "        return torch.device(\"cuda\")\n",
        "    return torch.device(\"cpu\")"
      ],
      "execution_count": null,
      "outputs": []
    },
    {
      "cell_type": "code",
      "metadata": {
        "id": "lFJ2ph8CuvoS"
      },
      "source": [
        "device=get_default_device()"
      ],
      "execution_count": null,
      "outputs": []
    },
    {
      "cell_type": "code",
      "metadata": {
        "id": "LfgcHGUhuyCS"
      },
      "source": [
        "device"
      ],
      "execution_count": null,
      "outputs": []
    },
    {
      "cell_type": "code",
      "metadata": {
        "id": "xAGaZqEMuzSo"
      },
      "source": [
        "def to_device(data,device):\n",
        "    if isinstance(data,(list,tuple)):\n",
        "        return [to_device(x,device) for x in data]\n",
        "    return data.to(device,non_blocking=True)"
      ],
      "execution_count": null,
      "outputs": []
    },
    {
      "cell_type": "code",
      "metadata": {
        "id": "nvjjNbW9vSae"
      },
      "source": [
        "class dataloader_device:\n",
        "    def __init__(self,data,device):\n",
        "        self.data=data\n",
        "        self.device=device\n",
        "    def __len__(self):\n",
        "        return len(self.data)\n",
        "    def __iter__(self):\n",
        "        for x in self.data:\n",
        "            yield to_device(x,self.device)"
      ],
      "execution_count": null,
      "outputs": []
    },
    {
      "cell_type": "code",
      "metadata": {
        "id": "NGCraBMevuFO"
      },
      "source": [
        "train_loader=dataloader_device(train_dataloader,device)\n",
        "val_loader=dataloader_device(val_dataloader,device)\n",
        "test_loader=dataloader_device(test_dataloader,device)"
      ],
      "execution_count": null,
      "outputs": []
    },
    {
      "cell_type": "code",
      "metadata": {
        "id": "abLPsxLEwMaB"
      },
      "source": [
        "model2=MnistModel(input_size,hidden_size,output_size)\n",
        "model2=to_device(model2,device)"
      ],
      "execution_count": null,
      "outputs": []
    },
    {
      "cell_type": "code",
      "metadata": {
        "id": "YpEmUhh2wqWX"
      },
      "source": [
        "history_new=[evaluate(model2,val_loader)]\n",
        "history_new"
      ],
      "execution_count": null,
      "outputs": []
    },
    {
      "cell_type": "code",
      "metadata": {
        "id": "Jew0eprpwwk7"
      },
      "source": [
        "history_new+=fit(model2,5,0.5,train_loader,val_loader)"
      ],
      "execution_count": null,
      "outputs": []
    },
    {
      "cell_type": "code",
      "metadata": {
        "id": "FfZq2P28xkN_"
      },
      "source": [
        "history_new+=fit(model2,5,0.05,train_loader,val_loader)"
      ],
      "execution_count": null,
      "outputs": []
    },
    {
      "cell_type": "code",
      "metadata": {
        "id": "FW00Jr7xw__H"
      },
      "source": [
        "evaluate(model2,test_loader)"
      ],
      "execution_count": null,
      "outputs": []
    },
    {
      "cell_type": "code",
      "metadata": {
        "id": "13VxUDjaxF-y"
      },
      "source": [
        "loss=[X[\"val_loss\"] for X in history_new]\n",
        "plt.plot(loss,\"-*\")\n",
        "plt.xlabel(\"Epochs\")\n",
        "plt.ylabel(\"Loss\")\n",
        "plt.show()"
      ],
      "execution_count": null,
      "outputs": []
    },
    {
      "cell_type": "code",
      "metadata": {
        "id": "PLyaOQqaxzVD"
      },
      "source": [
        "loss=[X[\"val_acc\"] for X in history_new]\n",
        "plt.plot(loss,\"-*\")\n",
        "plt.xlabel(\"Epochs\")\n",
        "plt.ylabel(\"Accuracy\")\n",
        "plt.show()"
      ],
      "execution_count": null,
      "outputs": []
    },
    {
      "cell_type": "code",
      "metadata": {
        "id": "ztd8vFu0x3g7"
      },
      "source": [
        "evaluate(model2,test_loader)"
      ],
      "execution_count": null,
      "outputs": []
    },
    {
      "cell_type": "code",
      "metadata": {
        "id": "-qaCmugny1aY"
      },
      "source": [
        "model2"
      ],
      "execution_count": null,
      "outputs": []
    },
    {
      "cell_type": "code",
      "metadata": {
        "id": "YmjtH3ReyVGJ"
      },
      "source": [
        "model2.layer1.weight.numel()+model2.layer1.bias.numel()+model2.layer2.weight.numel()+model2.layer2.bias.numel()"
      ],
      "execution_count": null,
      "outputs": []
    },
    {
      "cell_type": "code",
      "metadata": {
        "id": "TSNrPkB2zuHC"
      },
      "source": [
        "def predict(model2,image,device):\n",
        "    image=to_device(image,device)\n",
        "    image=image.reshape(-1,784)\n",
        "    pred=model2(image)\n",
        "    _,ans=torch.max(pred,dim=1)\n",
        "    return ans.item()"
      ],
      "execution_count": null,
      "outputs": []
    },
    {
      "cell_type": "code",
      "metadata": {
        "id": "6gj9k2pqzFLC"
      },
      "source": [
        "image,label=test_dataset[8989]\n",
        "plt.imshow(image[0],cmap=\"gray\")\n",
        "plt.show()\n",
        "print(\"Output: \",label,\" Predicted: \",predict(model2,image,device))"
      ],
      "execution_count": null,
      "outputs": []
    },
    {
      "cell_type": "code",
      "metadata": {
        "id": "4mC-egqX2aS2"
      },
      "source": [
        "torch.save(model2,\"best.pth\")"
      ],
      "execution_count": null,
      "outputs": []
    }
  ]
}