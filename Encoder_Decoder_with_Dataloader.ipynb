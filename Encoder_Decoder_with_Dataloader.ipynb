{
  "nbformat": 4,
  "nbformat_minor": 0,
  "metadata": {
    "colab": {
      "provenance": [],
      "include_colab_link": true
    },
    "kernelspec": {
      "name": "python3",
      "display_name": "Python 3"
    },
    "accelerator": "GPU"
  },
  "cells": [
    {
      "cell_type": "markdown",
      "metadata": {
        "id": "view-in-github",
        "colab_type": "text"
      },
      "source": [
        "<a href=\"https://colab.research.google.com/github/jainmridul82/Encoder-Decoder-Architecture/blob/main/Encoder_Decoder_with_Dataloader.ipynb\" target=\"_parent\"><img src=\"https://colab.research.google.com/assets/colab-badge.svg\" alt=\"Open In Colab\"/></a>"
      ]
    },
    {
      "cell_type": "code",
      "metadata": {
        "id": "W3eOd97OqWAj"
      },
      "source": [
        "import numpy as np\n",
        "import seaborn as sns\n",
        "import matplotlib.pyplot as plt\n",
        "import torch\n",
        "import random\n",
        "import re\n",
        "from tqdm import tqdm_notebook\n",
        "from xml.etree.ElementTree import parse\n",
        "from torch.autograd import Variable\n",
        "from torch.utils.data import Dataset\n",
        "from IPython.display import clear_output"
      ],
      "execution_count": null,
      "outputs": []
    },
    {
      "cell_type": "code",
      "metadata": {
        "id": "ZiZkYl1Ers2v",
        "outputId": "d8bf2f8d-77c0-4064-a864-3ff6b1b0dd49",
        "colab": {
          "base_uri": "https://localhost:8080/",
          "height": 34
        }
      },
      "source": [
        "device_gpu=torch.device('cuda:0' if torch.cuda.is_available() else 'cpu')\n",
        "print(device_gpu)"
      ],
      "execution_count": null,
      "outputs": [
        {
          "output_type": "stream",
          "text": [
            "cuda:0\n"
          ],
          "name": "stdout"
        }
      ]
    },
    {
      "cell_type": "code",
      "metadata": {
        "id": "XGlRR6ePr1HF",
        "outputId": "b1fe14da-0fc5-416e-bc53-40e1d4ed6a8b",
        "colab": {
          "base_uri": "https://localhost:8080/",
          "height": 54
        }
      },
      "source": [
        "eng_alphabets='ABCDEFGHIJKLMNOPQRSTUVWXYZ'\n",
        "pad_char='-PAD-'\n",
        "eng_alpha2index={pad_char:0}\n",
        "for index,alpha in enumerate(eng_alphabets):\n",
        "  eng_alpha2index[alpha]=index+1\n",
        "print(eng_alpha2index)"
      ],
      "execution_count": null,
      "outputs": [
        {
          "output_type": "stream",
          "text": [
            "{'-PAD-': 0, 'A': 1, 'B': 2, 'C': 3, 'D': 4, 'E': 5, 'F': 6, 'G': 7, 'H': 8, 'I': 9, 'J': 10, 'K': 11, 'L': 12, 'M': 13, 'N': 14, 'O': 15, 'P': 16, 'Q': 17, 'R': 18, 'S': 19, 'T': 20, 'U': 21, 'V': 22, 'W': 23, 'X': 24, 'Y': 25, 'Z': 26}\n"
          ],
          "name": "stdout"
        }
      ]
    },
    {
      "cell_type": "code",
      "metadata": {
        "id": "_Hsl2NKysNr8",
        "outputId": "c861d4ea-b649-4f05-d3a1-6a9a66a53f00",
        "colab": {
          "base_uri": "https://localhost:8080/",
          "height": 54
        }
      },
      "source": [
        "hindi_alphabets=[chr(alpha) for alpha in range(2304,2432)]\n",
        "hindi_alphabets_size=len(hindi_alphabets)\n",
        "hindi_alpha2index={pad_char:0}\n",
        "for index,alpha in enumerate(hindi_alphabets):\n",
        "  hindi_alpha2index[alpha]=index+1\n",
        "print(hindi_alpha2index)"
      ],
      "execution_count": null,
      "outputs": [
        {
          "output_type": "stream",
          "text": [
            "{'-PAD-': 0, 'ऀ': 1, 'ँ': 2, 'ं': 3, 'ः': 4, 'ऄ': 5, 'अ': 6, 'आ': 7, 'इ': 8, 'ई': 9, 'उ': 10, 'ऊ': 11, 'ऋ': 12, 'ऌ': 13, 'ऍ': 14, 'ऎ': 15, 'ए': 16, 'ऐ': 17, 'ऑ': 18, 'ऒ': 19, 'ओ': 20, 'औ': 21, 'क': 22, 'ख': 23, 'ग': 24, 'घ': 25, 'ङ': 26, 'च': 27, 'छ': 28, 'ज': 29, 'झ': 30, 'ञ': 31, 'ट': 32, 'ठ': 33, 'ड': 34, 'ढ': 35, 'ण': 36, 'त': 37, 'थ': 38, 'द': 39, 'ध': 40, 'न': 41, 'ऩ': 42, 'प': 43, 'फ': 44, 'ब': 45, 'भ': 46, 'म': 47, 'य': 48, 'र': 49, 'ऱ': 50, 'ल': 51, 'ळ': 52, 'ऴ': 53, 'व': 54, 'श': 55, 'ष': 56, 'स': 57, 'ह': 58, 'ऺ': 59, 'ऻ': 60, '़': 61, 'ऽ': 62, 'ा': 63, 'ि': 64, 'ी': 65, 'ु': 66, 'ू': 67, 'ृ': 68, 'ॄ': 69, 'ॅ': 70, 'ॆ': 71, 'े': 72, 'ै': 73, 'ॉ': 74, 'ॊ': 75, 'ो': 76, 'ौ': 77, '्': 78, 'ॎ': 79, 'ॏ': 80, 'ॐ': 81, '॑': 82, '॒': 83, '॓': 84, '॔': 85, 'ॕ': 86, 'ॖ': 87, 'ॗ': 88, 'क़': 89, 'ख़': 90, 'ग़': 91, 'ज़': 92, 'ड़': 93, 'ढ़': 94, 'फ़': 95, 'य़': 96, 'ॠ': 97, 'ॡ': 98, 'ॢ': 99, 'ॣ': 100, '।': 101, '॥': 102, '०': 103, '१': 104, '२': 105, '३': 106, '४': 107, '५': 108, '६': 109, '७': 110, '८': 111, '९': 112, '॰': 113, 'ॱ': 114, 'ॲ': 115, 'ॳ': 116, 'ॴ': 117, 'ॵ': 118, 'ॶ': 119, 'ॷ': 120, 'ॸ': 121, 'ॹ': 122, 'ॺ': 123, 'ॻ': 124, 'ॼ': 125, 'ॽ': 126, 'ॾ': 127, 'ॿ': 128}\n"
          ],
          "name": "stdout"
        }
      ]
    },
    {
      "cell_type": "code",
      "metadata": {
        "id": "OyALAhT5sfqz"
      },
      "source": [
        "non_eng_letters_regex=re.compile('[^a-z A-Z]')"
      ],
      "execution_count": null,
      "outputs": []
    },
    {
      "cell_type": "code",
      "metadata": {
        "id": "DpE29L4Qslw6"
      },
      "source": [
        "def cleanEnglishVocab(line):\n",
        "  line=line.replace('-',' ').replace(',',' ').upper()\n",
        "  line=non_eng_letters_regex.sub('',line)\n",
        "  return line.split()"
      ],
      "execution_count": null,
      "outputs": []
    },
    {
      "cell_type": "code",
      "metadata": {
        "id": "nDL9Hw-Rs0ae",
        "outputId": "551d2972-6df4-4d37-b8af-da6be6941836",
        "colab": {
          "base_uri": "https://localhost:8080/",
          "height": 34
        }
      },
      "source": [
        "cleanEnglishVocab('Make America Great Again!!!')"
      ],
      "execution_count": null,
      "outputs": [
        {
          "output_type": "execute_result",
          "data": {
            "text/plain": [
              "['MAKE', 'AMERICA', 'GREAT', 'AGAIN']"
            ]
          },
          "metadata": {
            "tags": []
          },
          "execution_count": 8
        }
      ]
    },
    {
      "cell_type": "code",
      "metadata": {
        "id": "Tvxu03n5s9wc"
      },
      "source": [
        "def cleanHindiVocab(line):\n",
        "  line=line.replace(',',' ').replace('-',' ')\n",
        "  cleaned_line=''\n",
        "  for char in line:\n",
        "    if char in hindi_alpha2index or char==' ':\n",
        "      cleaned_line+=char\n",
        "  return cleaned_line.split()"
      ],
      "execution_count": null,
      "outputs": []
    },
    {
      "cell_type": "code",
      "metadata": {
        "id": "KndgVEP5tTOQ",
        "outputId": "aedd576d-4b31-4ce8-c343-16997d0c9598",
        "colab": {
          "base_uri": "https://localhost:8080/",
          "height": 34
        }
      },
      "source": [
        "cleanHindiVocab('अमेरिका को फिर से महान बनाओ !!!')"
      ],
      "execution_count": null,
      "outputs": [
        {
          "output_type": "execute_result",
          "data": {
            "text/plain": [
              "['अमेरिका', 'को', 'फिर', 'से', 'महान', 'बनाओ']"
            ]
          },
          "metadata": {
            "tags": []
          },
          "execution_count": 10
        }
      ]
    },
    {
      "cell_type": "code",
      "metadata": {
        "id": "ZscYtBEBtXK5"
      },
      "source": [
        "class Transliteration_Dataloader(Dataset):\n",
        "  def __init__(self,filename):\n",
        "    self.eng_words,self.hindi_words=self.readXmlDataset(filename)\n",
        "    self.shuffle_start_index=0\n",
        "    self.shuffle_indices=list(range(len(self.eng_words)))\n",
        "    random.shuffle(self.shuffle_indices)\n",
        "  def __len__(self):\n",
        "    return len(self.eng_words)\n",
        "  def __getitem__(self,idx):\n",
        "    return self.eng_words[idx],self.hindi_words[idx]\n",
        "  def readXmlDataset(self,filename):\n",
        "    transliteration_corpus=parse(filename).getroot()\n",
        "    lang1_list=[]\n",
        "    lang2_list=[]\n",
        "    for line in transliteration_corpus:\n",
        "      batch1=cleanEnglishVocab(line[0].text)\n",
        "      batch2=cleanHindiVocab(line[1].text)\n",
        "      if len(batch1)!=len(batch2):\n",
        "        print('Skipping: ',line[0].text,' - ',line[1].text)\n",
        "        continue\n",
        "      for data in batch1:\n",
        "        lang1_list.append(data)\n",
        "      for data in batch2:\n",
        "        lang2_list.append(data)\n",
        "    return lang1_list,lang2_list\n",
        "  def get_sample_return(self):\n",
        "    return self.__getitem__(np.random.randint(len(self.eng_words)))\n",
        "  def get_batch_from_array(self,batch_size,array):\n",
        "    batch=[]\n",
        "    end=self.shuffle_start_index+batch_size\n",
        "    if end>=len(self.eng_words):\n",
        "      batch=[array[i] for i in self.shuffle_indices[0:end%len(self.eng_words)]]\n",
        "      end=len(self.eng_words)\n",
        "    return batch+[array[i] for i in self.shuffle_indices[self.shuffle_start_index:end]]\n",
        "  def get_batch(self,batch_size,post_process=True):\n",
        "    batch1=self.get_batch_from_array(batch_size,self.eng_words)\n",
        "    batch2=self.get_batch_from_array(batch_size,self.hindi_words)\n",
        "    self.shuffle_start_index+=batch_size\n",
        "    if self.shuffle_start_index>=len(self.eng_words):\n",
        "      self.shuffle_start_index=0\n",
        "      random.shuffle(self.shuffle_indices)\n",
        "    return batch1,batch2"
      ],
      "execution_count": null,
      "outputs": []
    },
    {
      "cell_type": "code",
      "metadata": {
        "id": "WaDrf2RDv0S7",
        "outputId": "c51ae5bd-e88b-43ec-cc9a-91bc0e63b5c2",
        "colab": {
          "base_uri": "https://localhost:8080/",
          "height": 680
        }
      },
      "source": [
        "train_data=Transliteration_Dataloader('/content/rI58TOlAScioEuPBbOYh_NEWS2012TrainingEnHi13937-1563719470862.xml')\n",
        "test_data=Transliteration_Dataloader('/content/njThAK0RQGeoOuE9rfwg_NEWS2012RefEnHi1000-1563719263404.xml')"
      ],
      "execution_count": null,
      "outputs": [
        {
          "output_type": "stream",
          "text": [
            "Skipping:  BARHARWA JUNCTION  -  बरहरवा\n",
            "Skipping:  STATE BNK TR  -  स्टेट बैंक ऑफ त्रावणकोर\n",
            "Skipping:  SOUTH ARLINGTON CHURCH OF CHRIST  -  साउथ अर्लिंग्टन\n",
            "Skipping:  KING EDWARD VII  -  किंग एडवर्ड\n",
            "Skipping:  DIBANG VALLEY  -  दिबंगवैली\n",
            "Skipping:  ORDER OF VASA  -  ऑडर ऑफ़ द वासा\n",
            "Skipping:  AZAMNAGAR ROAD  -  आज़मनगर\n",
            "Skipping:  CAPE TOWN  -  केपटाउन\n",
            "Skipping:  NEW ZEALAND  -  न्यूज़ीलैंड\n",
            "Skipping:  SEA OF THE HEBRIDES  -  सी ऑफ हरब्रिड्‍स\n",
            "Skipping:  RAMCOIND  -  राम्को इंड\n",
            "Skipping:  KELVINGROVE ART GALLERY AND MUSEUM  -  केल्व‍िनग्रोव आर्ट एण्ड म्युज़ियम\n",
            "Skipping:  AUSTRALIAN NATIONAL UNIVERSITY  -  ऑस्ट्रेलियननेशनल यूनिवर्सिटी\n",
            "Skipping:  JAHAN AARA  -  जहाँआरा\n",
            "Skipping:  NAVABHARAT FERRO ALLOYS  -  नव भारत फ़ैरो अलॉय\n",
            "Skipping:  RAMA LINGESHWARA  -  रामालिंगेश्वर\n",
            "Skipping:  FAKHRUN NISA  -  फखरुन्निसा\n",
            "Skipping:  REDIFF.COM INDIA LIMITED  -  रेडिफ़ डॉट कॉम इंडिया लिमिटेड\n",
            "Skipping:  OMKARNATH THAKUR  -  ओंकार नाथ ठाकुर\n",
            "Skipping:  OPENTV  -  ओपन टीवी\n",
            "Skipping:  ENVOY COMMUNICATIONS GROUP  -  एन्वॉय कम्युनिकेशंस\n",
            "Skipping:  WAR OF THE HOLY LEAGUE  -  वार ऑफ होली लीग\n",
            "Skipping:  VAPARAISO CHURCH OF CHRIST  -  व्हापरासिओ\n",
            "Skipping:  PARIS CHARLES DE GAULLE  -  पेरिस रॉसे चार्ल्स डे ग्यूले\n",
            "Skipping:  PARKWAY APOSTOLIC  -  पार्क वे अपोस्टोलिक\n",
            "Skipping:  MAUNA LOA  -  मौनालोआ\n",
            "Skipping:  MASS MUTUAL LIFE  -  मास म्युच्युअल लाइफ़ इंश्योरेंस\n",
            "Skipping:  STATS CHIPPAC  -  स्टेट्सचिपपैक\n",
            "Skipping:  NEWFOUNDLAND  -  न्यू फाउंडलैंड\n",
            "Skipping:  LONDONHEATHROW  -  लंदन हीथ्रो\n",
            "Skipping:  RETALIX  -  रेटालिक्स लि.\n",
            "Skipping:  SRISAILAM  -  श्री शैलम\n",
            "Skipping:  KARA-KUM  -  काराकुम\n",
            "Skipping:  WIND RIVER  -  विंडरिवर\n",
            "Skipping:  NETAJI SUBHASH CHANDRA BOSE  -  नेताजी सुभाषचंद्र बोस\n",
            "Skipping:  ROCKBROOK UNITED  -  रॉकब्रुक यूनाइटेड मेथोडिस्ट\n",
            "Skipping:  WALTER SCOTT  -  वॉल्टरस्कॉट\n",
            "Skipping:  COLOURPLUS FASHIONS  -  कलर प्लस फ़ैशन्स\n",
            "Skipping:  BAL KRISHNA  -  बालकृष्णा\n"
          ],
          "name": "stdout"
        }
      ]
    },
    {
      "cell_type": "code",
      "metadata": {
        "id": "nR2ugU9IyPik"
      },
      "source": [
        "def lang_rep(word,alpha2index,device='cpu'):\n",
        "  rep=torch.zeros(len(word)+1,1,len(alpha2index)).to(device)\n",
        "  for index,alpha in enumerate(word):\n",
        "    pos=alpha2index[alpha]\n",
        "    rep[index][0][pos]=1\n",
        "  pad_pos=alpha2index[pad_char]\n",
        "  rep[index+1][0][pad_pos]=1\n",
        "  return rep"
      ],
      "execution_count": null,
      "outputs": []
    },
    {
      "cell_type": "code",
      "metadata": {
        "id": "UUg0xmHid4ND"
      },
      "source": [
        "def batched_word_rep(words,max_word_size,device='cpu'):\n",
        "  rep = torch.zeros(max_word_size+1,len(words),len(eng_alpha2index)).to(device)\n",
        "  for word_index,word in enumerate(words):\n",
        "    for letter_index, letter in enumerate(word):\n",
        "      pos=eng_alpha2index[letter]\n",
        "      rep[letter_index][word_index][pos]=1\n",
        "    pad_pos=eng_alpha2index[pad_char]\n",
        "    rep[letter_index+1][word_index][pad_pos]=1\n",
        "  return rep"
      ],
      "execution_count": null,
      "outputs": []
    },
    {
      "cell_type": "code",
      "metadata": {
        "id": "SewKL8O0gbX3",
        "outputId": "a2331159-606b-4497-bb0c-430dbc2b1762",
        "colab": {
          "base_uri": "https://localhost:8080/",
          "height": 340
        }
      },
      "source": [
        "batched_word_rep(['PE', 'MEI'],3,device='cpu')"
      ],
      "execution_count": null,
      "outputs": [
        {
          "output_type": "execute_result",
          "data": {
            "text/plain": [
              "tensor([[[0., 0., 0., 0., 0., 0., 0., 0., 0., 0., 0., 0., 0., 0., 0., 0., 1.,\n",
              "          0., 0., 0., 0., 0., 0., 0., 0., 0., 0.],\n",
              "         [0., 0., 0., 0., 0., 0., 0., 0., 0., 0., 0., 0., 0., 1., 0., 0., 0.,\n",
              "          0., 0., 0., 0., 0., 0., 0., 0., 0., 0.]],\n",
              "\n",
              "        [[0., 0., 0., 0., 0., 1., 0., 0., 0., 0., 0., 0., 0., 0., 0., 0., 0.,\n",
              "          0., 0., 0., 0., 0., 0., 0., 0., 0., 0.],\n",
              "         [0., 0., 0., 0., 0., 1., 0., 0., 0., 0., 0., 0., 0., 0., 0., 0., 0.,\n",
              "          0., 0., 0., 0., 0., 0., 0., 0., 0., 0.]],\n",
              "\n",
              "        [[1., 0., 0., 0., 0., 0., 0., 0., 0., 0., 0., 0., 0., 0., 0., 0., 0.,\n",
              "          0., 0., 0., 0., 0., 0., 0., 0., 0., 0.],\n",
              "         [0., 0., 0., 0., 0., 0., 0., 0., 0., 1., 0., 0., 0., 0., 0., 0., 0.,\n",
              "          0., 0., 0., 0., 0., 0., 0., 0., 0., 0.]],\n",
              "\n",
              "        [[0., 0., 0., 0., 0., 0., 0., 0., 0., 0., 0., 0., 0., 0., 0., 0., 0.,\n",
              "          0., 0., 0., 0., 0., 0., 0., 0., 0., 0.],\n",
              "         [1., 0., 0., 0., 0., 0., 0., 0., 0., 0., 0., 0., 0., 0., 0., 0., 0.,\n",
              "          0., 0., 0., 0., 0., 0., 0., 0., 0., 0.]]])"
            ]
          },
          "metadata": {
            "tags": []
          },
          "execution_count": 15
        }
      ]
    },
    {
      "cell_type": "code",
      "metadata": {
        "id": "IixFYFkEfWMN"
      },
      "source": [
        "def batched_gt_rep(words,max_word_size,device='cpu'):\n",
        "  rep = torch.zeros([max_word_size+1,len(words)],dtype=torch.long).to(device)\n",
        "  for word_index,word in enumerate(words):\n",
        "    for letter_index, letter in enumerate(word):\n",
        "      rep[letter_index][word_index]=hindi_alpha2index[letter]\n",
        "    rep[letter_index+1][word_index]=hindi_alpha2index[pad_char]\n",
        "  return rep"
      ],
      "execution_count": null,
      "outputs": []
    },
    {
      "cell_type": "code",
      "metadata": {
        "id": "PbaWyOa2h-9g",
        "outputId": "78c4632f-d843-4052-89a7-48452c921152",
        "colab": {
          "base_uri": "https://localhost:8080/",
          "height": 68
        }
      },
      "source": [
        "a=batched_gt_rep(['अमेरिका','भारत',],7)\n",
        "print(a.shape)\n",
        "print(a.view(-1))\n",
        "print(a.shape)"
      ],
      "execution_count": null,
      "outputs": [
        {
          "output_type": "stream",
          "text": [
            "torch.Size([8, 2])\n",
            "tensor([ 6, 46, 47, 63, 72, 49, 49, 37, 64,  0, 22,  0, 63,  0,  0,  0])\n",
            "torch.Size([8, 2])\n"
          ],
          "name": "stdout"
        }
      ]
    },
    {
      "cell_type": "code",
      "metadata": {
        "id": "0GXSqYrOjpnB"
      },
      "source": [
        "def batched_dataloader(npoints,X_,Y_,verbose=False,device='cpu'):\n",
        "  words=[]\n",
        "  gts=[]\n",
        "  X_lengths=[]\n",
        "  Y_lengths=[]\n",
        "\n",
        "  for i in range(npoints):\n",
        "    word,gt=X_[i],Y_[i]\n",
        "\n",
        "    X_lengths.append(len(word))\n",
        "    Y_lengths.append(len(gt))\n",
        "\n",
        "    words.append(word)\n",
        "    gts.append(gt)\n",
        "\n",
        "  max_length_X=max(X_lengths)\n",
        "  max_length_Y=max(Y_lengths)\n",
        "\n",
        "  words_rep=batched_word_rep(words,max_length_X,device)\n",
        "  gts_rep=batched_gt_rep(gts,max_length_Y,device)\n",
        "\n",
        "  padded_words_rep=torch.nn.utils.rnn.pack_padded_sequence(words_rep,X_lengths,enforce_sorted=False)\n",
        "  padded_gts_rep=torch.nn.utils.rnn.pack_padded_sequence(gts_rep,Y_lengths,enforce_sorted=False)\n",
        "\n",
        "  if verbose:\n",
        "    print(words_rep.shape, padded_words_rep.data.shape)\n",
        "    print(gts_rep.shape,padded_gts_rep.data.shape)\n",
        "    print('--')\n",
        "\n",
        "  if verbose:\n",
        "    print(words)\n",
        "    print(gts)\n",
        "    print_char(words_rep)\n",
        "    print_char(padded_words_rep.data)\n",
        "    print('---')\n",
        "    print_char_gts(gts_rep)\n",
        "    print('-same-')\n",
        "    print_char_gts(padded_gts_rep.data)\n",
        "    print('--')\n",
        "\n",
        "  if verbose:\n",
        "    print('Padded words rep',padded_words_rep.data)\n",
        "    print('Padded words batch sizes', padded_words_rep.batch_sizes)\n",
        "    print('--')\n",
        "    print('Padded gt rep',padded_gts_rep.data)\n",
        "    print('Padded gt batch sizes', padded_gts_rep.batch_sizes)\n",
        "\n",
        "  return padded_words_rep,padded_gts_rep"
      ],
      "execution_count": null,
      "outputs": []
    },
    {
      "cell_type": "code",
      "metadata": {
        "id": "N6Rk6Hb0n2Ul"
      },
      "source": [
        "def print_char(name_reps):\n",
        "    name_reps = name_reps.view((-1, name_reps.size()[-1]))\n",
        "    for t in name_reps:\n",
        "        if torch.sum(t) == 0:\n",
        "            print('<pad>')\n",
        "        else:\n",
        "            index = t.argmax()\n",
        "            print(list(eng_alpha2index.keys())[index])"
      ],
      "execution_count": null,
      "outputs": []
    },
    {
      "cell_type": "code",
      "metadata": {
        "id": "BoX5y3wm0hmN"
      },
      "source": [
        "def print_char_gts(name_reps):\n",
        "    name_reps = name_reps.view(-1)\n",
        "    for t in name_reps:\n",
        "        if t.item() == 0:\n",
        "            print('<pad>')\n",
        "        else:\n",
        "            print(list(hindi_alpha2index.keys())[t])"
      ],
      "execution_count": null,
      "outputs": []
    },
    {
      "cell_type": "code",
      "metadata": {
        "id": "ngpuSnZ1lVQ6",
        "outputId": "204fb244-1292-4d63-e816-6b407875d02b",
        "colab": {
          "base_uri": "https://localhost:8080/",
          "height": 1000
        }
      },
      "source": [
        "a,b=batched_dataloader(2,test_data.eng_words,test_data.hindi_words,True)"
      ],
      "execution_count": null,
      "outputs": [
        {
          "output_type": "stream",
          "text": [
            "torch.Size([7, 2, 27]) torch.Size([11, 27])\n",
            "torch.Size([5, 2]) torch.Size([7])\n",
            "--\n",
            "['AADHI', 'AAKASH']\n",
            "['आधी', 'आकाश']\n",
            "A\n",
            "A\n",
            "A\n",
            "A\n",
            "D\n",
            "K\n",
            "H\n",
            "A\n",
            "I\n",
            "S\n",
            "-PAD-\n",
            "H\n",
            "<pad>\n",
            "-PAD-\n",
            "A\n",
            "A\n",
            "A\n",
            "A\n",
            "K\n",
            "D\n",
            "A\n",
            "H\n",
            "S\n",
            "I\n",
            "H\n",
            "---\n",
            "आ\n",
            "आ\n",
            "ध\n",
            "क\n",
            "ी\n",
            "ा\n",
            "<pad>\n",
            "श\n",
            "<pad>\n",
            "<pad>\n",
            "-same-\n",
            "आ\n",
            "आ\n",
            "क\n",
            "ध\n",
            "ा\n",
            "ी\n",
            "श\n",
            "--\n",
            "Padded words rep tensor([[0., 1., 0., 0., 0., 0., 0., 0., 0., 0., 0., 0., 0., 0., 0., 0., 0., 0.,\n",
            "         0., 0., 0., 0., 0., 0., 0., 0., 0.],\n",
            "        [0., 1., 0., 0., 0., 0., 0., 0., 0., 0., 0., 0., 0., 0., 0., 0., 0., 0.,\n",
            "         0., 0., 0., 0., 0., 0., 0., 0., 0.],\n",
            "        [0., 1., 0., 0., 0., 0., 0., 0., 0., 0., 0., 0., 0., 0., 0., 0., 0., 0.,\n",
            "         0., 0., 0., 0., 0., 0., 0., 0., 0.],\n",
            "        [0., 1., 0., 0., 0., 0., 0., 0., 0., 0., 0., 0., 0., 0., 0., 0., 0., 0.,\n",
            "         0., 0., 0., 0., 0., 0., 0., 0., 0.],\n",
            "        [0., 0., 0., 0., 0., 0., 0., 0., 0., 0., 0., 1., 0., 0., 0., 0., 0., 0.,\n",
            "         0., 0., 0., 0., 0., 0., 0., 0., 0.],\n",
            "        [0., 0., 0., 0., 1., 0., 0., 0., 0., 0., 0., 0., 0., 0., 0., 0., 0., 0.,\n",
            "         0., 0., 0., 0., 0., 0., 0., 0., 0.],\n",
            "        [0., 1., 0., 0., 0., 0., 0., 0., 0., 0., 0., 0., 0., 0., 0., 0., 0., 0.,\n",
            "         0., 0., 0., 0., 0., 0., 0., 0., 0.],\n",
            "        [0., 0., 0., 0., 0., 0., 0., 0., 1., 0., 0., 0., 0., 0., 0., 0., 0., 0.,\n",
            "         0., 0., 0., 0., 0., 0., 0., 0., 0.],\n",
            "        [0., 0., 0., 0., 0., 0., 0., 0., 0., 0., 0., 0., 0., 0., 0., 0., 0., 0.,\n",
            "         0., 1., 0., 0., 0., 0., 0., 0., 0.],\n",
            "        [0., 0., 0., 0., 0., 0., 0., 0., 0., 1., 0., 0., 0., 0., 0., 0., 0., 0.,\n",
            "         0., 0., 0., 0., 0., 0., 0., 0., 0.],\n",
            "        [0., 0., 0., 0., 0., 0., 0., 0., 1., 0., 0., 0., 0., 0., 0., 0., 0., 0.,\n",
            "         0., 0., 0., 0., 0., 0., 0., 0., 0.]])\n",
            "Padded words batch sizes tensor([2, 2, 2, 2, 2, 1])\n",
            "--\n",
            "Padded gt rep tensor([ 7,  7, 22, 40, 63, 65, 55])\n",
            "Padded gt batch sizes tensor([2, 2, 2, 1])\n"
          ],
          "name": "stdout"
        }
      ]
    },
    {
      "cell_type": "code",
      "metadata": {
        "id": "h5YmNEgLyn5z",
        "outputId": "315aabfc-cd43-4d21-e7ef-80ffe2c37585",
        "colab": {
          "base_uri": "https://localhost:8080/",
          "height": 408
        }
      },
      "source": [
        "lang_rep('AMERICA',eng_alpha2index)"
      ],
      "execution_count": null,
      "outputs": [
        {
          "output_type": "execute_result",
          "data": {
            "text/plain": [
              "tensor([[[0., 1., 0., 0., 0., 0., 0., 0., 0., 0., 0., 0., 0., 0., 0., 0., 0.,\n",
              "          0., 0., 0., 0., 0., 0., 0., 0., 0., 0.]],\n",
              "\n",
              "        [[0., 0., 0., 0., 0., 0., 0., 0., 0., 0., 0., 0., 0., 1., 0., 0., 0.,\n",
              "          0., 0., 0., 0., 0., 0., 0., 0., 0., 0.]],\n",
              "\n",
              "        [[0., 0., 0., 0., 0., 1., 0., 0., 0., 0., 0., 0., 0., 0., 0., 0., 0.,\n",
              "          0., 0., 0., 0., 0., 0., 0., 0., 0., 0.]],\n",
              "\n",
              "        [[0., 0., 0., 0., 0., 0., 0., 0., 0., 0., 0., 0., 0., 0., 0., 0., 0.,\n",
              "          0., 1., 0., 0., 0., 0., 0., 0., 0., 0.]],\n",
              "\n",
              "        [[0., 0., 0., 0., 0., 0., 0., 0., 0., 1., 0., 0., 0., 0., 0., 0., 0.,\n",
              "          0., 0., 0., 0., 0., 0., 0., 0., 0., 0.]],\n",
              "\n",
              "        [[0., 0., 0., 1., 0., 0., 0., 0., 0., 0., 0., 0., 0., 0., 0., 0., 0.,\n",
              "          0., 0., 0., 0., 0., 0., 0., 0., 0., 0.]],\n",
              "\n",
              "        [[0., 1., 0., 0., 0., 0., 0., 0., 0., 0., 0., 0., 0., 0., 0., 0., 0.,\n",
              "          0., 0., 0., 0., 0., 0., 0., 0., 0., 0.]],\n",
              "\n",
              "        [[1., 0., 0., 0., 0., 0., 0., 0., 0., 0., 0., 0., 0., 0., 0., 0., 0.,\n",
              "          0., 0., 0., 0., 0., 0., 0., 0., 0., 0.]]])"
            ]
          },
          "metadata": {
            "tags": []
          },
          "execution_count": 23
        }
      ]
    },
    {
      "cell_type": "code",
      "metadata": {
        "id": "Ygh14n0iytLS"
      },
      "source": [
        "def gt_rep(word,alpha2index,device='cpu'):\n",
        "  rep=torch.zeros([len(word)+1,1],dtype=torch.long).to(device)\n",
        "  for index,alpha in enumerate(word):\n",
        "    rep[index][0]=alpha2index[alpha]\n",
        "  rep[index+1][0]=alpha2index[pad_char]\n",
        "  return rep"
      ],
      "execution_count": null,
      "outputs": []
    },
    {
      "cell_type": "code",
      "metadata": {
        "id": "PxcmAn9YzANz",
        "outputId": "ea036082-3100-42f8-b695-a3bbde480ea0",
        "colab": {
          "base_uri": "https://localhost:8080/",
          "height": 34
        }
      },
      "source": [
        "gt_rep('अमेरिका',hindi_alpha2index).shape"
      ],
      "execution_count": null,
      "outputs": [
        {
          "output_type": "execute_result",
          "data": {
            "text/plain": [
              "torch.Size([8, 1])"
            ]
          },
          "metadata": {
            "tags": []
          },
          "execution_count": 25
        }
      ]
    },
    {
      "cell_type": "code",
      "metadata": {
        "id": "HIEa6XUnzvlv"
      },
      "source": [
        "class Transliteration_EncoderDecoder(torch.nn.Module):\n",
        "  def __init__(self,input_size,hidden_size,output_size):\n",
        "    super(Transliteration_EncoderDecoder,self).__init__()\n",
        "    self.hidden_size=hidden_size\n",
        "    self.output_size=output_size\n",
        "    self.softmax=torch.nn.LogSoftmax(dim=2)\n",
        "    self.h2o=torch.nn.Linear(hidden_size,output_size)\n",
        "    self.encoder_rnn_cell=torch.nn.GRU(input_size,hidden_size)\n",
        "    self.decoder_rnn_cell=torch.nn.GRU(output_size,hidden_size)\n",
        "  def forward(self,input_,max_output_chars,device='cpu',gt=None):\n",
        "    out,hidden=self.encoder_rnn_cell(input_)\n",
        "    decoder_state=hidden\n",
        "    decoder_input=torch.zeros(1,1,self.output_size).to(device)\n",
        "    outputs=[]\n",
        "    for i in range(max_output_chars):\n",
        "      out,decoder_state=self.decoder_rnn_cell(decoder_input)\n",
        "      out=self.h2o(decoder_state)\n",
        "      out=self.softmax(out)\n",
        "      outputs.append(out.view(1,-1))\n",
        "      max_idx=torch.argmax(out,2,keepdim=True)\n",
        "      if not gt is None:\n",
        "        max_idx=gt[i].reshape(1,1,1)\n",
        "      one_hot=torch.FloatTensor(out.shape).to(device)\n",
        "      one_hot.zero_()\n",
        "      one_hot.scatter_(2,max_idx,1)\n",
        "      decoder_input=one_hot.detach()\n",
        "    return outputs"
      ],
      "execution_count": null,
      "outputs": []
    },
    {
      "cell_type": "code",
      "metadata": {
        "id": "5ylR-H372TXe"
      },
      "source": [
        "def infer(net,input_,max_output_chars,device='cpu'):\n",
        "  net=net.to(device)\n",
        "  input_=lang_rep(input_,eng_alpha2index,device)\n",
        "  output=net(input_,max_output_chars,device,None)\n",
        "  return output"
      ],
      "execution_count": null,
      "outputs": []
    },
    {
      "cell_type": "code",
      "metadata": {
        "id": "1pkPgaxVtQbg",
        "outputId": "8d59b973-fe72-4453-8aea-349c9476faf6",
        "colab": {
          "base_uri": "https://localhost:8080/",
          "height": 34
        }
      },
      "source": [
        "eng,hindi=batched_dataloader(10,train_data.eng_words,train_data.hindi_words,verbose=False)\n",
        "print(eng.data.shape,hindi.data.shape)"
      ],
      "execution_count": null,
      "outputs": [
        {
          "output_type": "stream",
          "text": [
            "torch.Size([69, 27]) torch.Size([59])\n"
          ],
          "name": "stdout"
        }
      ]
    },
    {
      "cell_type": "code",
      "metadata": {
        "id": "Nr3ktNa23Pln"
      },
      "source": [
        "def train_batch(net,opt,criterion,batch_size,device='cpu',teacher_force=False):\n",
        "  net=net.train().to(device)\n",
        "  opt.zero_grad()\n",
        "  total_loss=0\n",
        "  eng,hindi=train_data.get_batch(batch_size)\n",
        "  eng,hindi=batched_dataloader(batch_size,eng,hindi,verbose=False,device=device)\n",
        "  hindi=hindi.data\n",
        "  hindi.resize_((hindi.size()[-1],1))\n",
        "  outputs=net(eng,hindi.shape[0],device,hindi if teacher_force else None)\n",
        "  for index,output in enumerate(outputs):\n",
        "    loss=criterion(output,hindi[index])/batch_size\n",
        "    loss.backward(retain_graph=True)\n",
        "    total_loss+=loss\n",
        "  opt.step()\n",
        "  return total_loss/batch_size"
      ],
      "execution_count": null,
      "outputs": []
    },
    {
      "cell_type": "code",
      "metadata": {
        "id": "0JDjI7cd4X6o"
      },
      "source": [
        "def train_setup(net,lr,momentum,n_batches,batch_size,display_freq,device='cpu'):\n",
        "  net=net.train().to(device)\n",
        "  opt=torch.optim.Adam(net.parameters(),lr=lr)\n",
        "  criterion=torch.nn.NLLLoss(ignore_index=-1)\n",
        "  loss_arr=np.zeros(n_batches+1)\n",
        "  #teacher_force_upto=n_batches//3\n",
        "  for i in range(n_batches):\n",
        "    loss_arr[i+1]=(loss_arr[i]*i+train_batch(net,opt,criterion,batch_size,device,True))/(i+1)\n",
        "    if i%display_freq==display_freq-1:\n",
        "      clear_output(wait=True)\n",
        "      print('Iteration',i,'Loss',loss_arr[i])\n",
        "      plt.figure()\n",
        "      plt.plot(loss_arr[1:i],'-*')\n",
        "      plt.xlabel('Iteration')\n",
        "      plt.ylabel('Loss')\n",
        "      plt.show()\n",
        "  torch.save(net,'model_full_teacher_force_padding.pt')\n",
        "  return loss_arr"
      ],
      "execution_count": null,
      "outputs": []
    },
    {
      "cell_type": "code",
      "metadata": {
        "id": "EuHxAuAJ6R2n",
        "outputId": "737bef73-2c3b-4003-862a-d9da96070984",
        "colab": {
          "base_uri": "https://localhost:8080/",
          "height": 296
        }
      },
      "source": [
        "net=Transliteration_EncoderDecoder(len(eng_alpha2index),128,len(hindi_alpha2index))\n",
        "train_setup(net,lr=0.001,momentum=0.9,n_batches=2048,batch_size=64,display_freq=5,device=device_gpu)"
      ],
      "execution_count": null,
      "outputs": [
        {
          "output_type": "stream",
          "text": [
            "Iteration 989 Loss 0.30884259939193726\n"
          ],
          "name": "stdout"
        },
        {
          "output_type": "display_data",
          "data": {
            "image/png": "[encoded data removed]",
            "text/plain": [
              "<Figure size 432x288 with 1 Axes>"
            ]
          },
          "metadata": {
            "tags": []
          }
        }
      ]
    },
    {
      "cell_type": "code",
      "metadata": {
        "id": "nns5GKAW7BBZ"
      },
      "source": [
        "def test(net,word,max_output_chars,device='cpu'):\n",
        "  net=net.eval().to(device)\n",
        "  hindi_output=''\n",
        "  outputs=infer(net,word,max_output_chars,device)\n",
        "  for out in outputs:\n",
        "    _,indices=out.topk(1)\n",
        "    index=indices.tolist()[0][0]\n",
        "    if index==0:\n",
        "      break\n",
        "    hindi_char=hindi_alphabets[index-1]\n",
        "    hindi_output+=hindi_char\n",
        "  print(word,' - ',hindi_output)\n",
        "  return hindi_output"
      ],
      "execution_count": null,
      "outputs": []
    },
    {
      "cell_type": "code",
      "metadata": {
        "id": "Yghi3_SB79JW",
        "outputId": "9380c2a0-6e6c-4441-a39c-1e00f068c50c",
        "colab": {
          "base_uri": "https://localhost:8080/",
          "height": 51
        }
      },
      "source": [
        "test(net,'BD',10,device_gpu)"
      ],
      "execution_count": null,
      "outputs": [
        {
          "output_type": "stream",
          "text": [
            "BD  -  रररररररररर\n"
          ],
          "name": "stdout"
        },
        {
          "output_type": "execute_result",
          "data": {
            "text/plain": [
              "'रररररररररर'"
            ]
          },
          "metadata": {
            "tags": []
          },
          "execution_count": 83
        }
      ]
    },
    {
      "cell_type": "code",
      "metadata": {
        "id": "SNElntm48XEy"
      },
      "source": [
        "def get_accuracy(net,device='cpu'):\n",
        "  net=net.eval().to(device)\n",
        "  accuracy=0\n",
        "  for i in range(len(test_data)):\n",
        "    eng,hindi=test_data[i]\n",
        "    gt=gt_rep(hindi,hindi_alpha2index,device)\n",
        "    outputs=infer(net,eng,gt.shape[0],device)\n",
        "    correct=0\n",
        "    for index,output in enumerate(outputs):\n",
        "      vals,indices=output.topk(1)\n",
        "      indices=indices.tolist()[0]\n",
        "      if indices[0]==gt[index][0]:\n",
        "        correct+=1\n",
        "    accuracy+=correct/gt.shape[0]\n",
        "  accuracy/=len(test_data)\n",
        "  return accuracy"
      ],
      "execution_count": null,
      "outputs": []
    },
    {
      "cell_type": "code",
      "metadata": {
        "id": "cCE5Cj_g91le",
        "outputId": "f7198228-16b1-4ce1-bcbb-4a0e20d32ff0",
        "colab": {
          "base_uri": "https://localhost:8080/",
          "height": 34
        }
      },
      "source": [
        "get_accuracy(net,device_gpu)"
      ],
      "execution_count": null,
      "outputs": [
        {
          "output_type": "execute_result",
          "data": {
            "text/plain": [
              "0.06313122433122459"
            ]
          },
          "metadata": {
            "tags": []
          },
          "execution_count": 81
        }
      ]
    }
  ]
}