{
  "nbformat": 4,
  "nbformat_minor": 0,
  "metadata": {
    "colab": {
      "provenance": [],
      "include_colab_link": true
    },
    "kernelspec": {
      "name": "python3",
      "display_name": "Python 3"
    },
    "accelerator": "GPU"
  },
  "cells": [
    {
      "cell_type": "markdown",
      "metadata": {
        "id": "view-in-github",
        "colab_type": "text"
      },
      "source": [
        "<a href=\"https://colab.research.google.com/github/jainmridul82/Encoder-Decoder-Architecture/blob/main/_encoderdecoderarchitecture.ipynb\" target=\"_parent\"><img src=\"https://colab.research.google.com/assets/colab-badge.svg\" alt=\"Open In Colab\"/></a>"
      ]
    },
    {
      "cell_type": "markdown",
      "metadata": {
        "id": "h02pEMJXG8PO"
      },
      "source": [
        "## Outline\n",
        "\n",
        "\n",
        "1. Data set and task\n",
        "2. Data processing XML files\n",
        "3. Why we need encoder decoder architecture\n",
        "4. Basic GRU based encoder decoder\n",
        "5. Adding attention\n",
        "6. Evaluation\n",
        "7. Exercises"
      ]
    },
    {
      "cell_type": "code",
      "metadata": {
        "id": "36lfNrOIG-JH"
      },
      "source": [
        "import torch\n",
        "import torch.nn as nn\n",
        "import torch.optim as optim\n",
        "from torch.autograd import Variable\n",
        "import torch.nn.functional as F\n",
        "import numpy as np\n",
        "\n",
        "# Instantiates the device to be used as GPU/CPU based on availability\n",
        "device_gpu = torch.device(\"cuda:0\" if torch.cuda.is_available() else \"cpu\")\n",
        "\n",
        "# Visualization tools\n",
        "import matplotlib.pyplot as plt\n",
        "import seaborn as sns\n",
        "from IPython.display import clear_output\n",
        "\n",
        "import random"
      ],
      "execution_count": null,
      "outputs": []
    },
    {
      "cell_type": "code",
      "metadata": {
        "id": "0Zhl3PaoHAcC",
        "colab": {
          "base_uri": "https://localhost:8080/",
          "height": 54
        },
        "outputId": "b3e656b9-8067-4797-aaf9-8b4aa141eb8f"
      },
      "source": [
        "eng_alphabets = 'ABCDEFGHIJKLMNOPQRSTUVWXYZ'\n",
        "pad_char = '-PAD-'\n",
        "\n",
        "eng_alpha2index = {pad_char: 0}\n",
        "for index, alpha in enumerate(eng_alphabets):\n",
        "    eng_alpha2index[alpha] = index+1\n",
        "\n",
        "print(eng_alpha2index)"
      ],
      "execution_count": null,
      "outputs": [
        {
          "output_type": "stream",
          "text": [
            "{'-PAD-': 0, 'A': 1, 'B': 2, 'C': 3, 'D': 4, 'E': 5, 'F': 6, 'G': 7, 'H': 8, 'I': 9, 'J': 10, 'K': 11, 'L': 12, 'M': 13, 'N': 14, 'O': 15, 'P': 16, 'Q': 17, 'R': 18, 'S': 19, 'T': 20, 'U': 21, 'V': 22, 'W': 23, 'X': 24, 'Y': 25, 'Z': 26}\n"
          ],
          "name": "stdout"
        }
      ]
    },
    {
      "cell_type": "code",
      "metadata": {
        "id": "nl0vwMpeHNJx",
        "colab": {
          "base_uri": "https://localhost:8080/",
          "height": 54
        },
        "outputId": "4cc246dc-fc03-4c9c-f7e0-d3f6454081f1"
      },
      "source": [
        "# Hindi Unicode Hex Range is 2304:2432. Source: https://en.wikipedia.org/wiki/Devanagari_(Unicode_block)\n",
        "\n",
        "hindi_alphabets = [chr(alpha) for alpha in range(2304, 2432)]\n",
        "hindi_alphabet_size = len(hindi_alphabets)\n",
        "\n",
        "hindi_alpha2index = {pad_char: 0}\n",
        "for index, alpha in enumerate(hindi_alphabets):\n",
        "    hindi_alpha2index[alpha] = index+1\n",
        "\n",
        "print(hindi_alpha2index)"
      ],
      "execution_count": null,
      "outputs": [
        {
          "output_type": "stream",
          "text": [
            "{'-PAD-': 0, 'ऀ': 1, 'ँ': 2, 'ं': 3, 'ः': 4, 'ऄ': 5, 'अ': 6, 'आ': 7, 'इ': 8, 'ई': 9, 'उ': 10, 'ऊ': 11, 'ऋ': 12, 'ऌ': 13, 'ऍ': 14, 'ऎ': 15, 'ए': 16, 'ऐ': 17, 'ऑ': 18, 'ऒ': 19, 'ओ': 20, 'औ': 21, 'क': 22, 'ख': 23, 'ग': 24, 'घ': 25, 'ङ': 26, 'च': 27, 'छ': 28, 'ज': 29, 'झ': 30, 'ञ': 31, 'ट': 32, 'ठ': 33, 'ड': 34, 'ढ': 35, 'ण': 36, 'त': 37, 'थ': 38, 'द': 39, 'ध': 40, 'न': 41, 'ऩ': 42, 'प': 43, 'फ': 44, 'ब': 45, 'भ': 46, 'म': 47, 'य': 48, 'र': 49, 'ऱ': 50, 'ल': 51, 'ळ': 52, 'ऴ': 53, 'व': 54, 'श': 55, 'ष': 56, 'स': 57, 'ह': 58, 'ऺ': 59, 'ऻ': 60, '़': 61, 'ऽ': 62, 'ा': 63, 'ि': 64, 'ी': 65, 'ु': 66, 'ू': 67, 'ृ': 68, 'ॄ': 69, 'ॅ': 70, 'ॆ': 71, 'े': 72, 'ै': 73, 'ॉ': 74, 'ॊ': 75, 'ो': 76, 'ौ': 77, '्': 78, 'ॎ': 79, 'ॏ': 80, 'ॐ': 81, '॑': 82, '॒': 83, '॓': 84, '॔': 85, 'ॕ': 86, 'ॖ': 87, 'ॗ': 88, 'क़': 89, 'ख़': 90, 'ग़': 91, 'ज़': 92, 'ड़': 93, 'ढ़': 94, 'फ़': 95, 'य़': 96, 'ॠ': 97, 'ॡ': 98, 'ॢ': 99, 'ॣ': 100, '।': 101, '॥': 102, '०': 103, '१': 104, '२': 105, '३': 106, '४': 107, '५': 108, '६': 109, '७': 110, '८': 111, '९': 112, '॰': 113, 'ॱ': 114, 'ॲ': 115, 'ॳ': 116, 'ॴ': 117, 'ॵ': 118, 'ॶ': 119, 'ॷ': 120, 'ॸ': 121, 'ॹ': 122, 'ॺ': 123, 'ॻ': 124, 'ॼ': 125, 'ॽ': 126, 'ॾ': 127, 'ॿ': 128}\n"
          ],
          "name": "stdout"
        }
      ]
    },
    {
      "cell_type": "code",
      "metadata": {
        "id": "ZRqMtiSUHO87"
      },
      "source": [
        "import re\n",
        "non_eng_letters_regex = re.compile('[^a-zA-Z ]')\n",
        "\n",
        "# Remove all English non-letters\n",
        "def cleanEnglishVocab(line):\n",
        "    line = line.replace('-', ' ').replace(',', ' ').upper()\n",
        "    line = non_eng_letters_regex.sub('', line)\n",
        "    return line.split()\n",
        "\n",
        "# Remove all Hindi non-letters\n",
        "def cleanHindiVocab(line):\n",
        "    line = line.replace('-', ' ').replace(',', ' ')\n",
        "    cleaned_line = ''\n",
        "    for char in line:\n",
        "        if char in hindi_alpha2index or char == ' ':\n",
        "            cleaned_line += char\n",
        "    return cleaned_line.split()"
      ],
      "execution_count": null,
      "outputs": []
    },
    {
      "cell_type": "code",
      "metadata": {
        "id": "JX_2jW_5HQ5w"
      },
      "source": [
        "from torch.utils.data import Dataset\n",
        "import xml.etree.ElementTree as ET\n",
        "\n",
        "class TransliterationDataLoader(Dataset):\n",
        "    def __init__(self, filename):\n",
        "        self.eng_words, self.hindi_words = self.readXmlDataset(filename, cleanHindiVocab)\n",
        "        self.shuffle_indices = list(range(len(self.eng_words)))\n",
        "        random.shuffle(self.shuffle_indices)\n",
        "        self.shuffle_start_index = 0\n",
        "\n",
        "    def __len__(self):\n",
        "        return len(self.eng_words)\n",
        "\n",
        "    def __getitem__(self, idx):\n",
        "        return self.eng_words[idx], self.hindi_words[idx]\n",
        "\n",
        "    def readXmlDataset(self, filename, lang_vocab_cleaner):\n",
        "        transliterationCorpus = ET.parse(filename).getroot()\n",
        "        lang1_words = []\n",
        "        lang2_words = []\n",
        "\n",
        "        for line in transliterationCorpus:\n",
        "            wordlist1 = cleanEnglishVocab(line[0].text)\n",
        "            wordlist2 = lang_vocab_cleaner(line[1].text)\n",
        "\n",
        "            # Skip noisy data\n",
        "            if len(wordlist1) != len(wordlist2):\n",
        "                print('Skipping: ', line[0].text, ' - ', line[1].text)\n",
        "                continue\n",
        "\n",
        "            for word in wordlist1:\n",
        "                lang1_words.append(word)\n",
        "            for word in wordlist2:\n",
        "                lang2_words.append(word)\n",
        "\n",
        "        return lang1_words, lang2_words\n",
        "\n",
        "    def get_random_sample(self):\n",
        "        return self.__getitem__(np.random.randint(len(self.eng_words)))\n",
        "\n",
        "    def get_batch_from_array(self, batch_size, array):\n",
        "        end = self.shuffle_start_index + batch_size\n",
        "        batch = []\n",
        "        if end >= len(self.eng_words):\n",
        "            batch = [array[i] for i in self.shuffle_indices[0:end%len(self.eng_words)]]\n",
        "            end = len(self.eng_words)\n",
        "        return batch + [array[i] for i in self.shuffle_indices[self.shuffle_start_index : end]]\n",
        "\n",
        "    def get_batch(self, batch_size, postprocess = True):\n",
        "        eng_batch = self.get_batch_from_array(batch_size, self.eng_words)\n",
        "        hindi_batch = self.get_batch_from_array(batch_size, self.hindi_words)\n",
        "        self.shuffle_start_index += batch_size + 1\n",
        "\n",
        "        # Reshuffle if 1 epoch is complete\n",
        "        if self.shuffle_start_index >= len(self.eng_words):\n",
        "            random.shuffle(self.shuffle_indices)\n",
        "            self.shuffle_start_index = 0\n",
        "\n",
        "        return eng_batch, hindi_batch"
      ],
      "execution_count": null,
      "outputs": []
    },
    {
      "cell_type": "code",
      "metadata": {
        "id": "DtJwlMRuHSqk",
        "colab": {
          "base_uri": "https://localhost:8080/",
          "height": 680
        },
        "outputId": "0137ee09-ddec-4f12-ed8c-643e0888f383"
      },
      "source": [
        "train_data = TransliterationDataLoader('/content/rI58TOlAScioEuPBbOYh_NEWS2012TrainingEnHi13937-1563719470862.xml')\n",
        "test_data = TransliterationDataLoader('/content/njThAK0RQGeoOuE9rfwg_NEWS2012RefEnHi1000-1563719263404.xml')"
      ],
      "execution_count": null,
      "outputs": [
        {
          "output_type": "stream",
          "text": [
            "Skipping:  BARHARWA JUNCTION  -  बरहरवा\n",
            "Skipping:  STATE BNK TR  -  स्टेट बैंक ऑफ त्रावणकोर\n",
            "Skipping:  SOUTH ARLINGTON CHURCH OF CHRIST  -  साउथ अर्लिंग्टन\n",
            "Skipping:  KING EDWARD VII  -  किंग एडवर्ड\n",
            "Skipping:  DIBANG VALLEY  -  दिबंगवैली\n",
            "Skipping:  ORDER OF VASA  -  ऑडर ऑफ़ द वासा\n",
            "Skipping:  AZAMNAGAR ROAD  -  आज़मनगर\n",
            "Skipping:  CAPE TOWN  -  केपटाउन\n",
            "Skipping:  NEW ZEALAND  -  न्यूज़ीलैंड\n",
            "Skipping:  SEA OF THE HEBRIDES  -  सी ऑफ हरब्रिड्‍स\n",
            "Skipping:  RAMCOIND  -  राम्को इंड\n",
            "Skipping:  KELVINGROVE ART GALLERY AND MUSEUM  -  केल्व‍िनग्रोव आर्ट एण्ड म्युज़ियम\n",
            "Skipping:  AUSTRALIAN NATIONAL UNIVERSITY  -  ऑस्ट्रेलियननेशनल यूनिवर्सिटी\n",
            "Skipping:  JAHAN AARA  -  जहाँआरा\n",
            "Skipping:  NAVABHARAT FERRO ALLOYS  -  नव भारत फ़ैरो अलॉय\n",
            "Skipping:  RAMA LINGESHWARA  -  रामालिंगेश्वर\n",
            "Skipping:  FAKHRUN NISA  -  फखरुन्निसा\n",
            "Skipping:  REDIFF.COM INDIA LIMITED  -  रेडिफ़ डॉट कॉम इंडिया लिमिटेड\n",
            "Skipping:  OMKARNATH THAKUR  -  ओंकार नाथ ठाकुर\n",
            "Skipping:  OPENTV  -  ओपन टीवी\n",
            "Skipping:  ENVOY COMMUNICATIONS GROUP  -  एन्वॉय कम्युनिकेशंस\n",
            "Skipping:  WAR OF THE HOLY LEAGUE  -  वार ऑफ होली लीग\n",
            "Skipping:  VAPARAISO CHURCH OF CHRIST  -  व्हापरासिओ\n",
            "Skipping:  PARIS CHARLES DE GAULLE  -  पेरिस रॉसे चार्ल्स डे ग्यूले\n",
            "Skipping:  PARKWAY APOSTOLIC  -  पार्क वे अपोस्टोलिक\n",
            "Skipping:  MAUNA LOA  -  मौनालोआ\n",
            "Skipping:  MASS MUTUAL LIFE  -  मास म्युच्युअल लाइफ़ इंश्योरेंस\n",
            "Skipping:  STATS CHIPPAC  -  स्टेट्सचिपपैक\n",
            "Skipping:  NEWFOUNDLAND  -  न्यू फाउंडलैंड\n",
            "Skipping:  LONDONHEATHROW  -  लंदन हीथ्रो\n",
            "Skipping:  RETALIX  -  रेटालिक्स लि.\n",
            "Skipping:  SRISAILAM  -  श्री शैलम\n",
            "Skipping:  KARA-KUM  -  काराकुम\n",
            "Skipping:  WIND RIVER  -  विंडरिवर\n",
            "Skipping:  NETAJI SUBHASH CHANDRA BOSE  -  नेताजी सुभाषचंद्र बोस\n",
            "Skipping:  ROCKBROOK UNITED  -  रॉकब्रुक यूनाइटेड मेथोडिस्ट\n",
            "Skipping:  WALTER SCOTT  -  वॉल्टरस्कॉट\n",
            "Skipping:  COLOURPLUS FASHIONS  -  कलर प्लस फ़ैशन्स\n",
            "Skipping:  BAL KRISHNA  -  बालकृष्णा\n"
          ],
          "name": "stdout"
        }
      ]
    },
    {
      "cell_type": "code",
      "metadata": {
        "id": "umhapv7fHU0J",
        "colab": {
          "base_uri": "https://localhost:8080/",
          "height": 255
        },
        "outputId": "9fc15126-8213-4387-cb60-7d2e2a04454e"
      },
      "source": [
        "print(\"Train Set Size:\\t\", len(train_data))\n",
        "print(\"Test Set Size:\\t\", len(test_data))\n",
        "\n",
        "print('\\nSample data from train-set:')\n",
        "for i in range(10):\n",
        "    eng, hindi = train_data.get_random_sample()\n",
        "    print(eng + ' - ' + hindi)"
      ],
      "execution_count": null,
      "outputs": [
        {
          "output_type": "stream",
          "text": [
            "Train Set Size:\t 20543\n",
            "Test Set Size:\t 1000\n",
            "\n",
            "Sample data from train-set:\n",
            "SALIMA - सलीमा\n",
            "TOMAI - टोमेई\n",
            "AUSTRALIAN - ऑस्ट्रेलियन\n",
            "GUJ - गुजरात\n",
            "GUGLANI - गुगलानी\n",
            "STUDIO - स्टुडियो\n",
            "VIPIN - विपिन\n",
            "JUPITER - ज्युपिटर\n",
            "NATURAL - नैचरल\n",
            "SCHOOL - स्कूल\n"
          ],
          "name": "stdout"
        }
      ]
    },
    {
      "cell_type": "code",
      "metadata": {
        "id": "-hvXWxL7HeD8"
      },
      "source": [
        "def word_rep(word, letter2index, device = 'cpu'):\n",
        "    rep = torch.zeros(len(word)+1, 1, len(letter2index)).to(device)\n",
        "    for letter_index, letter in enumerate(word):\n",
        "        pos = letter2index[letter]\n",
        "        rep[letter_index][0][pos] = 1\n",
        "    pad_pos = letter2index[pad_char]\n",
        "    rep[letter_index+1][0][pad_pos] = 1\n",
        "    return rep\n",
        "\n",
        "def gt_rep(word, letter2index, device = 'cpu'):\n",
        "    gt_rep = torch.zeros([len(word)+1, 1], dtype=torch.long).to(device)\n",
        "    for letter_index, letter in enumerate(word):\n",
        "        pos = letter2index[letter]\n",
        "        gt_rep[letter_index][0] = pos\n",
        "    gt_rep[letter_index+1][0] = letter2index[pad_char]\n",
        "    return gt_rep"
      ],
      "execution_count": null,
      "outputs": []
    },
    {
      "cell_type": "code",
      "metadata": {
        "id": "tsWJQiFMHgC9",
        "colab": {
          "base_uri": "https://localhost:8080/",
          "height": 255
        },
        "outputId": "38844634-6c13-486e-bce0-aa4db2b6702c"
      },
      "source": [
        "eng, hindi = train_data.get_random_sample()\n",
        "eng_rep = word_rep(eng, eng_alpha2index)\n",
        "print(eng, eng_rep)"
      ],
      "execution_count": null,
      "outputs": [
        {
          "output_type": "stream",
          "text": [
            "WALL tensor([[[0., 0., 0., 0., 0., 0., 0., 0., 0., 0., 0., 0., 0., 0., 0., 0., 0.,\n",
            "          0., 0., 0., 0., 0., 0., 1., 0., 0., 0.]],\n",
            "\n",
            "        [[0., 1., 0., 0., 0., 0., 0., 0., 0., 0., 0., 0., 0., 0., 0., 0., 0.,\n",
            "          0., 0., 0., 0., 0., 0., 0., 0., 0., 0.]],\n",
            "\n",
            "        [[0., 0., 0., 0., 0., 0., 0., 0., 0., 0., 0., 0., 1., 0., 0., 0., 0.,\n",
            "          0., 0., 0., 0., 0., 0., 0., 0., 0., 0.]],\n",
            "\n",
            "        [[0., 0., 0., 0., 0., 0., 0., 0., 0., 0., 0., 0., 1., 0., 0., 0., 0.,\n",
            "          0., 0., 0., 0., 0., 0., 0., 0., 0., 0.]],\n",
            "\n",
            "        [[1., 0., 0., 0., 0., 0., 0., 0., 0., 0., 0., 0., 0., 0., 0., 0., 0.,\n",
            "          0., 0., 0., 0., 0., 0., 0., 0., 0., 0.]]])\n"
          ],
          "name": "stdout"
        }
      ]
    },
    {
      "cell_type": "code",
      "metadata": {
        "id": "lWNyy2RmHhtJ",
        "colab": {
          "base_uri": "https://localhost:8080/",
          "height": 85
        },
        "outputId": "5524d268-08e7-4d8c-c916-d2ae94cbca95"
      },
      "source": [
        "hindi_gt = gt_rep(hindi, hindi_alpha2index)\n",
        "print(hindi, hindi_gt)"
      ],
      "execution_count": null,
      "outputs": [
        {
          "output_type": "stream",
          "text": [
            "वाल tensor([[54],\n",
            "        [63],\n",
            "        [51],\n",
            "        [ 0]])\n"
          ],
          "name": "stdout"
        }
      ]
    },
    {
      "cell_type": "code",
      "metadata": {
        "id": "sfzHxTSsHjff"
      },
      "source": [
        "MAX_OUTPUT_CHARS = 30\n",
        "class Transliteration_EncoderDecoder(nn.Module):\n",
        "\n",
        "    def __init__(self, input_size, hidden_size, output_size, verbose=False):\n",
        "        super(Transliteration_EncoderDecoder, self).__init__()\n",
        "\n",
        "        self.hidden_size = hidden_size\n",
        "        self.output_size = output_size\n",
        "\n",
        "        self.encoder_rnn_cell = nn.GRU(input_size, hidden_size)\n",
        "        self.decoder_rnn_cell = nn.GRU(output_size, hidden_size)\n",
        "\n",
        "        self.h2o = nn.Linear(hidden_size, output_size)\n",
        "        self.softmax = nn.LogSoftmax(dim=2)\n",
        "\n",
        "        self.verbose = verbose\n",
        "\n",
        "    def forward(self, input, max_output_chars = MAX_OUTPUT_CHARS, device = 'cpu', ground_truth = None):\n",
        "\n",
        "        # encoder\n",
        "        out, hidden = self.encoder_rnn_cell(input)\n",
        "\n",
        "        if self.verbose:\n",
        "            print('Encoder input', input.shape)\n",
        "            print('Encoder output', out.shape)\n",
        "            print('Encoder hidden', hidden.shape)\n",
        "\n",
        "        # decoder\n",
        "        decoder_state = hidden\n",
        "        decoder_input = torch.zeros(1, 1, self.output_size).to(device)\n",
        "        outputs = []\n",
        "\n",
        "        if self.verbose:\n",
        "            print('Decoder state', decoder_state.shape)\n",
        "            print('Decoder input', decoder_input.shape)\n",
        "\n",
        "        for i in range(max_output_chars):\n",
        "\n",
        "            out, decoder_state = self.decoder_rnn_cell(decoder_input, decoder_state)\n",
        "\n",
        "            if self.verbose:\n",
        "                print('Decoder intermediate output', out.shape)\n",
        "\n",
        "            out = self.h2o(decoder_state)\n",
        "            out = self.softmax(out)\n",
        "            outputs.append(out.view(1, -1))\n",
        "\n",
        "            if self.verbose:\n",
        "                print('Decoder output', out.shape)\n",
        "                self.verbose = False\n",
        "\n",
        "            max_idx = torch.argmax(out, 2, keepdim=True)\n",
        "            if not ground_truth is None:\n",
        "                max_idx = ground_truth[i].reshape(1, 1, 1)\n",
        "            one_hot = torch.FloatTensor(out.shape).to(device)\n",
        "            one_hot.zero_()\n",
        "            one_hot.scatter_(2, max_idx, 1)\n",
        "\n",
        "            decoder_input = one_hot.detach()\n",
        "\n",
        "        return outputs"
      ],
      "execution_count": null,
      "outputs": []
    },
    {
      "cell_type": "code",
      "metadata": {
        "id": "bUFhcTAzHlF-"
      },
      "source": [
        "net = Transliteration_EncoderDecoder(len(eng_alpha2index), 256, len(hindi_alpha2index), verbose=True)"
      ],
      "execution_count": null,
      "outputs": []
    },
    {
      "cell_type": "code",
      "metadata": {
        "id": "CBJbBnYkHvGz"
      },
      "source": [
        "def infer(net,input_,max_output_chars,device='cpu'):\n",
        "  net=net.to(device)\n",
        "  input_=word_rep(input_,eng_alpha2index,device)\n",
        "  out=net(input_,max_output_chars,device,None)\n",
        "  return out"
      ],
      "execution_count": null,
      "outputs": []
    },
    {
      "cell_type": "code",
      "metadata": {
        "id": "m8UzoYnOHoju",
        "colab": {
          "base_uri": "https://localhost:8080/",
          "height": 136
        },
        "outputId": "e634190e-5215-469c-8237-a01568296932"
      },
      "source": [
        "out = infer(net, 'INDIA', 30)"
      ],
      "execution_count": null,
      "outputs": [
        {
          "output_type": "stream",
          "text": [
            "Encoder input torch.Size([6, 1, 27])\n",
            "Encoder output torch.Size([6, 1, 256])\n",
            "Encoder hidden torch.Size([1, 1, 256])\n",
            "Decoder state torch.Size([1, 1, 256])\n",
            "Decoder input torch.Size([1, 1, 129])\n",
            "Decoder intermediate output torch.Size([1, 1, 256])\n",
            "Decoder output torch.Size([1, 1, 129])\n"
          ],
          "name": "stdout"
        }
      ]
    },
    {
      "cell_type": "code",
      "metadata": {
        "id": "GLCldZsUHqFS",
        "colab": {
          "base_uri": "https://localhost:8080/",
          "height": 544
        },
        "outputId": "5fbada7c-be5b-4738-dcd1-325784bf069b"
      },
      "source": [
        "print(len(out))\n",
        "for i in range(len(out)):\n",
        "    print(out[i].shape, list(hindi_alpha2index.keys())[list(hindi_alpha2index.values()).index(torch.argmax(out[i]))])"
      ],
      "execution_count": null,
      "outputs": [
        {
          "output_type": "stream",
          "text": [
            "30\n",
            "torch.Size([1, 129]) ग़\n",
            "torch.Size([1, 129]) ॱ\n",
            "torch.Size([1, 129]) ॼ\n",
            "torch.Size([1, 129]) ॼ\n",
            "torch.Size([1, 129]) ॼ\n",
            "torch.Size([1, 129]) ऺ\n",
            "torch.Size([1, 129]) ॼ\n",
            "torch.Size([1, 129]) ॼ\n",
            "torch.Size([1, 129]) ॼ\n",
            "torch.Size([1, 129]) ऺ\n",
            "torch.Size([1, 129]) ॼ\n",
            "torch.Size([1, 129]) ॼ\n",
            "torch.Size([1, 129]) ऺ\n",
            "torch.Size([1, 129]) ॼ\n",
            "torch.Size([1, 129]) ॼ\n",
            "torch.Size([1, 129]) ॼ\n",
            "torch.Size([1, 129]) ऺ\n",
            "torch.Size([1, 129]) ॼ\n",
            "torch.Size([1, 129]) ॼ\n",
            "torch.Size([1, 129]) ऺ\n",
            "torch.Size([1, 129]) ॼ\n",
            "torch.Size([1, 129]) ॼ\n",
            "torch.Size([1, 129]) ॼ\n",
            "torch.Size([1, 129]) ऺ\n",
            "torch.Size([1, 129]) ॼ\n",
            "torch.Size([1, 129]) ॼ\n",
            "torch.Size([1, 129]) ऺ\n",
            "torch.Size([1, 129]) ॼ\n",
            "torch.Size([1, 129]) ॼ\n",
            "torch.Size([1, 129]) ॼ\n"
          ],
          "name": "stdout"
        }
      ]
    },
    {
      "cell_type": "code",
      "metadata": {
        "id": "rvS3QPP0H3fw"
      },
      "source": [
        "class Transliteration_EncoderDecoder_Attention(nn.Module):\n",
        "\n",
        "    def __init__(self, input_size, hidden_size, output_size, verbose=False):\n",
        "        super(Transliteration_EncoderDecoder_Attention, self).__init__()\n",
        "\n",
        "        self.hidden_size = hidden_size\n",
        "        self.output_size = output_size\n",
        "\n",
        "        self.encoder_rnn_cell = nn.GRU(input_size, hidden_size)\n",
        "        self.decoder_rnn_cell = nn.GRU(hidden_size*2, hidden_size)\n",
        "\n",
        "        self.h2o = nn.Linear(hidden_size, output_size)\n",
        "        self.softmax = nn.LogSoftmax(dim=2)\n",
        "\n",
        "        self.U = nn.Linear(self.hidden_size, self.hidden_size)\n",
        "        self.W = nn.Linear(self.hidden_size, self.hidden_size)\n",
        "        self.attn = nn.Linear(self.hidden_size, 1)\n",
        "        self.out2hidden = nn.Linear(self.output_size, self.hidden_size)\n",
        "\n",
        "        self.verbose = verbose\n",
        "\n",
        "    def forward(self, input, max_output_chars = MAX_OUTPUT_CHARS, device = 'cpu', ground_truth = None):\n",
        "\n",
        "        # encoder\n",
        "        encoder_outputs, hidden = self.encoder_rnn_cell(input)\n",
        "        encoder_outputs = encoder_outputs.view(-1, self.hidden_size)\n",
        "\n",
        "        if self.verbose:\n",
        "            print('Encoder output', encoder_outputs.shape)\n",
        "\n",
        "        # decoder\n",
        "        decoder_state = hidden\n",
        "        decoder_input = torch.zeros(1, 1, self.output_size).to(device)\n",
        "\n",
        "        outputs = []\n",
        "        U = self.U(encoder_outputs)\n",
        "\n",
        "        if self.verbose:\n",
        "            print('Decoder state', decoder_state.shape)\n",
        "            print('Decoder intermediate input', decoder_input.shape)\n",
        "            print('U * Encoder output', U.shape)\n",
        "\n",
        "        for i in range(max_output_chars):\n",
        "\n",
        "            W = self.W(decoder_state.view(1, -1).repeat(encoder_outputs.shape[0], 1))\n",
        "            V = self.attn(torch.tanh(U + W))\n",
        "            attn_weights = F.softmax(V.view(1, -1), dim = 1)\n",
        "\n",
        "            if self.verbose:\n",
        "                print('W * Decoder state', W.shape)\n",
        "                print('V', V.shape)\n",
        "                print('Attn', attn_weights.shape)\n",
        "\n",
        "            attn_applied = torch.bmm(attn_weights.unsqueeze(0),\n",
        "                                 encoder_outputs.unsqueeze(0))\n",
        "\n",
        "            embedding = self.out2hidden(decoder_input)\n",
        "            decoder_input = torch.cat((embedding[0], attn_applied[0]), 1).unsqueeze(0)\n",
        "\n",
        "            if self.verbose:\n",
        "                print('Attn LC', attn_applied.shape)\n",
        "                print('Decoder input', decoder_input.shape)\n",
        "\n",
        "            out, decoder_state = self.decoder_rnn_cell(decoder_input, decoder_state)\n",
        "\n",
        "            if self.verbose:\n",
        "                print('Decoder intermediate output', out.shape)\n",
        "\n",
        "            out = self.h2o(decoder_state)\n",
        "            out = self.softmax(out)\n",
        "            outputs.append(out.view(1, -1))\n",
        "\n",
        "            if self.verbose:\n",
        "                print('Decoder output', out.shape)\n",
        "                self.verbose = False\n",
        "\n",
        "            max_idx = torch.argmax(out, 2, keepdim=True)\n",
        "            if not ground_truth is None:\n",
        "                max_idx = ground_truth[i].reshape(1, 1, 1)\n",
        "            one_hot = torch.zeros(out.shape, device=device)\n",
        "            one_hot.scatter_(2, max_idx, 1)\n",
        "\n",
        "            decoder_input = one_hot.detach()\n",
        "\n",
        "        return outputs"
      ],
      "execution_count": null,
      "outputs": []
    },
    {
      "cell_type": "code",
      "metadata": {
        "id": "Cn4meWSMH3-W"
      },
      "source": [
        "net_attn = Transliteration_EncoderDecoder_Attention(len(eng_alpha2index), 256, len(hindi_alpha2index), verbose=True)"
      ],
      "execution_count": null,
      "outputs": []
    },
    {
      "cell_type": "code",
      "metadata": {
        "id": "rdx161RSH6Sh",
        "colab": {
          "base_uri": "https://localhost:8080/",
          "height": 204
        },
        "outputId": "9e08072c-3a10-4399-e549-86a4506abb6e"
      },
      "source": [
        "out = infer(net_attn, 'INDIA', 30)"
      ],
      "execution_count": null,
      "outputs": [
        {
          "output_type": "stream",
          "text": [
            "Encoder output torch.Size([6, 256])\n",
            "Decoder state torch.Size([1, 1, 256])\n",
            "Decoder intermediate input torch.Size([1, 1, 129])\n",
            "U * Encoder output torch.Size([6, 256])\n",
            "W * Decoder state torch.Size([6, 256])\n",
            "V torch.Size([6, 1])\n",
            "Attn torch.Size([1, 6])\n",
            "Attn LC torch.Size([1, 1, 256])\n",
            "Decoder input torch.Size([1, 1, 512])\n",
            "Decoder intermediate output torch.Size([1, 1, 256])\n",
            "Decoder output torch.Size([1, 1, 129])\n"
          ],
          "name": "stdout"
        }
      ]
    },
    {
      "cell_type": "code",
      "metadata": {
        "id": "TOUIReq5H756",
        "colab": {
          "base_uri": "https://localhost:8080/",
          "height": 544
        },
        "outputId": "95c105d6-71bd-45f4-958d-3e9eb90220a3"
      },
      "source": [
        "print(len(out))\n",
        "for i in range(len(out)):\n",
        "    print(out[i].shape, list(hindi_alpha2index.keys())[list(hindi_alpha2index.values()).index(torch.argmax(out[i]))])"
      ],
      "execution_count": null,
      "outputs": [
        {
          "output_type": "stream",
          "text": [
            "30\n",
            "torch.Size([1, 129]) ॑\n",
            "torch.Size([1, 129]) ु\n",
            "torch.Size([1, 129]) ॑\n",
            "torch.Size([1, 129]) ड़\n",
            "torch.Size([1, 129]) ॑\n",
            "torch.Size([1, 129]) ु\n",
            "torch.Size([1, 129]) ॑\n",
            "torch.Size([1, 129]) ु\n",
            "torch.Size([1, 129]) ॑\n",
            "torch.Size([1, 129]) ड़\n",
            "torch.Size([1, 129]) ॑\n",
            "torch.Size([1, 129]) ु\n",
            "torch.Size([1, 129]) ॑\n",
            "torch.Size([1, 129]) ु\n",
            "torch.Size([1, 129]) ॑\n",
            "torch.Size([1, 129]) ु\n",
            "torch.Size([1, 129]) ॑\n",
            "torch.Size([1, 129]) ड़\n",
            "torch.Size([1, 129]) ॑\n",
            "torch.Size([1, 129]) ु\n",
            "torch.Size([1, 129]) ॑\n",
            "torch.Size([1, 129]) ु\n",
            "torch.Size([1, 129]) ॑\n",
            "torch.Size([1, 129]) ु\n",
            "torch.Size([1, 129]) ॑\n",
            "torch.Size([1, 129]) ड़\n",
            "torch.Size([1, 129]) ॑\n",
            "torch.Size([1, 129]) ु\n",
            "torch.Size([1, 129]) ॑\n",
            "torch.Size([1, 129]) ु\n"
          ],
          "name": "stdout"
        }
      ]
    },
    {
      "cell_type": "code",
      "metadata": {
        "id": "VsWcfO6sH96j"
      },
      "source": [
        "def train_batch(net, opt, criterion, batch_size, device = 'cpu', teacher_force = False):\n",
        "\n",
        "    net.train().to(device)\n",
        "    opt.zero_grad()\n",
        "    eng_batch, hindi_batch = train_data.get_batch(batch_size)\n",
        "\n",
        "    total_loss = 0\n",
        "    for i in range(batch_size):\n",
        "\n",
        "        input = word_rep(eng_batch[i], eng_alpha2index, device)\n",
        "        gt = gt_rep(hindi_batch[i], hindi_alpha2index, device)\n",
        "        outputs = net(input, gt.shape[0], device, ground_truth = gt if teacher_force else None)\n",
        "\n",
        "        for index, output in enumerate(outputs):\n",
        "            loss = criterion(output, gt[index]) / batch_size\n",
        "            loss.backward(retain_graph = True)\n",
        "            total_loss += loss\n",
        "\n",
        "    opt.step()\n",
        "    return total_loss/batch_size"
      ],
      "execution_count": null,
      "outputs": []
    },
    {
      "cell_type": "code",
      "metadata": {
        "id": "we13uN0FH_4d"
      },
      "source": [
        "def train_setup(net, lr = 0.01, n_batches = 100, batch_size = 10, momentum = 0.9, display_freq=5, device = 'cpu'):\n",
        "\n",
        "    net = net.to(device)\n",
        "    criterion = nn.NLLLoss(ignore_index = -1)\n",
        "    opt = optim.Adam(net.parameters(), lr=lr)\n",
        "    teacher_force_upto = n_batches//3\n",
        "\n",
        "    loss_arr = np.zeros(n_batches + 1)\n",
        "\n",
        "    for i in range(n_batches):\n",
        "        loss_arr[i+1] = (loss_arr[i]*i + train_batch(net, opt, criterion, batch_size, device = device, teacher_force = i<teacher_force_upto ))/(i + 1)\n",
        "\n",
        "        if i%display_freq == display_freq-1:\n",
        "            clear_output(wait=True)\n",
        "\n",
        "            print('Iteration', i, 'Loss', loss_arr[i])\n",
        "            plt.figure()\n",
        "            plt.plot(loss_arr[1:i], '-*')\n",
        "            plt.xlabel('Iteration')\n",
        "            plt.ylabel('Loss')\n",
        "            plt.show()\n",
        "            print('\\n\\n')\n",
        "\n",
        "    torch.save(net, 'model.pt')\n",
        "    return loss_arr"
      ],
      "execution_count": null,
      "outputs": []
    },
    {
      "cell_type": "code",
      "metadata": {
        "id": "6tt6xxVkIBnR"
      },
      "source": [
        "net = Transliteration_EncoderDecoder(len(eng_alpha2index), 256, len(hindi_alpha2index))"
      ],
      "execution_count": null,
      "outputs": []
    },
    {
      "cell_type": "code",
      "metadata": {
        "id": "xe9hTJB9IDZY",
        "colab": {
          "base_uri": "https://localhost:8080/",
          "height": 588
        },
        "outputId": "646b4745-af68-466c-f440-8c2891283561"
      },
      "source": [
        "train_setup(net, lr=0.001, n_batches=20, batch_size = 64, display_freq=10, device = device_gpu)"
      ],
      "execution_count": null,
      "outputs": [
        {
          "output_type": "stream",
          "text": [
            "Iteration 19 Loss 0.4368971288204193\n"
          ],
          "name": "stdout"
        },
        {
          "output_type": "display_data",
          "data": {
            "image/png": "[encoded data removed]",
            "text/plain": [
              "<Figure size 432x288 with 1 Axes>"
            ]
          },
          "metadata": {
            "tags": []
          }
        },
        {
          "output_type": "stream",
          "text": [
            "\n",
            "\n",
            "\n"
          ],
          "name": "stdout"
        },
        {
          "output_type": "stream",
          "text": [
            "/usr/local/lib/python3.6/dist-packages/torch/serialization.py:292: UserWarning: Couldn't retrieve source code for container of type Transliteration_EncoderDecoder. It won't be checked for correctness upon loading.\n",
            "  \"type \" + obj.__name__ + \". It won't be checked \"\n",
            "/usr/local/lib/python3.6/dist-packages/torch/serialization.py:292: UserWarning: Couldn't retrieve source code for container of type GRU. It won't be checked for correctness upon loading.\n",
            "  \"type \" + obj.__name__ + \". It won't be checked \"\n",
            "/usr/local/lib/python3.6/dist-packages/torch/serialization.py:292: UserWarning: Couldn't retrieve source code for container of type Linear. It won't be checked for correctness upon loading.\n",
            "  \"type \" + obj.__name__ + \". It won't be checked \"\n",
            "/usr/local/lib/python3.6/dist-packages/torch/serialization.py:292: UserWarning: Couldn't retrieve source code for container of type LogSoftmax. It won't be checked for correctness upon loading.\n",
            "  \"type \" + obj.__name__ + \". It won't be checked \"\n"
          ],
          "name": "stderr"
        },
        {
          "output_type": "execute_result",
          "data": {
            "text/plain": [
              "array([0.        , 0.51884991, 0.51033264, 0.50913215, 0.5087682 ,\n",
              "       0.50566435, 0.49969694, 0.4981674 , 0.49658471, 0.49375948,\n",
              "       0.49325782, 0.48711652, 0.48135352, 0.47635835, 0.46657306,\n",
              "       0.45846862, 0.45051995, 0.44659132, 0.4413003 , 0.43689713,\n",
              "       0.43392131])"
            ]
          },
          "metadata": {
            "tags": []
          },
          "execution_count": 27
        }
      ]
    },
    {
      "cell_type": "code",
      "metadata": {
        "id": "wgv0NYAoIGL2"
      },
      "source": [
        "net_att = Transliteration_EncoderDecoder_Attention(len(eng_alpha2index), 256, len(hindi_alpha2index))"
      ],
      "execution_count": null,
      "outputs": []
    },
    {
      "cell_type": "code",
      "metadata": {
        "id": "g2q8AnHGIJNg",
        "colab": {
          "base_uri": "https://localhost:8080/",
          "height": 503
        },
        "outputId": "a7850517-f77a-4e8d-f86a-13904ab8861a"
      },
      "source": [
        "loss_history = train_setup(net_att, lr=0.001, n_batches=20, batch_size = 64, display_freq=10, device = device_gpu)"
      ],
      "execution_count": null,
      "outputs": [
        {
          "output_type": "stream",
          "text": [
            "Iteration 19 Loss 0.40468353033065796\n"
          ],
          "name": "stdout"
        },
        {
          "output_type": "display_data",
          "data": {
            "image/png": "[encoded data removed]",
            "text/plain": [
              "<Figure size 432x288 with 1 Axes>"
            ]
          },
          "metadata": {
            "tags": []
          }
        },
        {
          "output_type": "stream",
          "text": [
            "\n",
            "\n",
            "\n"
          ],
          "name": "stdout"
        },
        {
          "output_type": "stream",
          "text": [
            "/usr/local/lib/python3.6/dist-packages/torch/serialization.py:292: UserWarning: Couldn't retrieve source code for container of type Transliteration_EncoderDecoder_Attention. It won't be checked for correctness upon loading.\n",
            "  \"type \" + obj.__name__ + \". It won't be checked \"\n",
            "/usr/local/lib/python3.6/dist-packages/torch/serialization.py:292: UserWarning: Couldn't retrieve source code for container of type GRU. It won't be checked for correctness upon loading.\n",
            "  \"type \" + obj.__name__ + \". It won't be checked \"\n",
            "/usr/local/lib/python3.6/dist-packages/torch/serialization.py:292: UserWarning: Couldn't retrieve source code for container of type Linear. It won't be checked for correctness upon loading.\n",
            "  \"type \" + obj.__name__ + \". It won't be checked \"\n",
            "/usr/local/lib/python3.6/dist-packages/torch/serialization.py:292: UserWarning: Couldn't retrieve source code for container of type LogSoftmax. It won't be checked for correctness upon loading.\n",
            "  \"type \" + obj.__name__ + \". It won't be checked \"\n"
          ],
          "name": "stderr"
        }
      ]
    },
    {
      "cell_type": "code",
      "metadata": {
        "id": "wybHAdBPILjd"
      },
      "source": [
        "def test(net, word, device = 'cpu'):\n",
        "    net = net.eval().to(device)\n",
        "    outputs = infer(net, word, 30, device)\n",
        "    hindi_output = ''\n",
        "    for out in outputs:\n",
        "        val, indices = out.topk(1)\n",
        "        print(out)\n",
        "        index = indices.tolist()[0][0]\n",
        "        if index == 0:\n",
        "            break\n",
        "        hindi_char = hindi_alphabets[index+1]\n",
        "        hindi_output += hindi_char\n",
        "    print(word + ' - ' + hindi_output)\n",
        "    return hindi_output"
      ],
      "execution_count": null,
      "outputs": []
    },
    {
      "cell_type": "code",
      "metadata": {
        "id": "WYyQh8pZIUH4",
        "colab": {
          "base_uri": "https://localhost:8080/",
          "height": 1000
        },
        "outputId": "eaf7b1a4-90e8-48f4-c408-915f94b0a0d1"
      },
      "source": [
        "test(net_att,'INDIA',device_gpu)"
      ],
      "execution_count": null,
      "outputs": [
        {
          "output_type": "stream",
          "text": [
            "tensor([[-3.5989, -6.8576, -6.1601, -3.9112, -6.7483, -7.0905, -4.5433, -5.4521,\n",
            "         -5.3864, -6.7204, -5.4626, -6.7828, -6.8841, -6.4949, -7.2466, -6.8093,\n",
            "         -5.1612, -6.6658, -6.0752, -6.8411, -5.9853, -6.8719, -3.1693, -5.5889,\n",
            "         -3.8552, -6.5747, -7.0595, -4.7725, -6.4522, -3.8014, -6.9068, -6.5365,\n",
            "         -3.8631, -6.7563, -3.9587, -7.0677, -5.1881, -3.9286, -5.3940, -3.6808,\n",
            "         -5.3624, -3.3540, -6.6408, -3.7861, -4.0813, -3.4818, -5.7994, -3.3678,\n",
            "         -4.0349, -3.0054, -6.9862, -3.5316, -6.9885, -6.9479, -3.6039, -4.0527,\n",
            "         -5.6834, -3.4049, -3.6810, -6.9253, -6.7911, -5.0708, -6.7100, -3.0983,\n",
            "         -3.1675, -3.6588, -3.8677, -4.5708, -6.0522, -7.1741, -6.4008, -6.4039,\n",
            "         -3.4750, -4.3746, -4.2326, -7.0532, -3.8124, -6.2278, -3.0917, -6.8739,\n",
            "         -7.0766, -6.3092, -6.9563, -6.7806, -6.7085, -6.7011, -6.7377, -6.9173,\n",
            "         -6.9576, -6.3676, -6.5895, -6.9851, -5.5497, -6.2091, -6.7071, -6.7825,\n",
            "         -6.8616, -6.9170, -6.6505, -6.7884, -6.8033, -6.7060, -6.7175, -6.7168,\n",
            "         -7.0756, -6.6420, -6.8932, -7.0804, -6.6719, -7.1195, -7.2852, -7.1731,\n",
            "         -6.4507, -6.8165, -7.0698, -6.8018, -6.9142, -6.9013, -6.7881, -6.9192,\n",
            "         -6.5544, -6.5852, -7.1016, -6.9302, -6.7718, -6.9290, -6.9399, -6.7999,\n",
            "         -7.0526]], device='cuda:0', grad_fn=<ViewBackward>)\n",
            "tensor([[-2.9173, -8.8170, -7.5806, -3.8164, -8.3234, -8.8692, -5.6431, -6.4898,\n",
            "         -6.4060, -8.2718, -6.5156, -8.6834, -8.5833, -7.9660, -9.2569, -8.5849,\n",
            "         -6.2895, -8.3995, -7.5933, -8.6451, -7.2906, -8.8193, -3.1732, -6.7590,\n",
            "         -4.0038, -8.2976, -9.0874, -5.4263, -7.9482, -3.9428, -8.5338, -8.1608,\n",
            "         -3.9261, -8.3845, -3.9488, -8.8928, -5.8942, -3.9431, -6.0814, -3.7417,\n",
            "         -6.3674, -3.0902, -8.3511, -4.1470, -4.4485, -3.8208, -7.1575, -3.3512,\n",
            "         -3.8224, -2.6132, -8.8509, -3.3735, -8.7794, -8.8330, -3.7309, -4.3480,\n",
            "         -6.7890, -3.4038, -3.7714, -8.5694, -8.4218, -5.6214, -8.4561, -2.5182,\n",
            "         -2.8455, -3.3761, -3.8493, -4.8868, -7.2775, -9.1024, -7.9698, -8.0303,\n",
            "         -3.2009, -4.5293, -4.4901, -8.9917, -3.8814, -7.6592, -2.5771, -8.6264,\n",
            "         -9.1202, -7.7281, -8.5851, -8.5426, -8.4035, -8.2199, -8.2348, -8.5320,\n",
            "         -8.6741, -8.0152, -8.3300, -8.7796, -6.3595, -7.4893, -8.2894, -8.4824,\n",
            "         -8.4557, -8.7544, -8.2346, -8.5722, -8.6749, -8.4814, -8.4981, -8.3542,\n",
            "         -8.9388, -8.2658, -8.5067, -8.9935, -8.3429, -8.9964, -9.1329, -9.0121,\n",
            "         -8.1425, -8.5682, -8.9120, -8.4931, -8.7693, -8.7169, -8.4036, -8.7466,\n",
            "         -8.1189, -8.3246, -8.9707, -8.8097, -8.5940, -8.8512, -8.7208, -8.5509,\n",
            "         -8.9115]], device='cuda:0', grad_fn=<ViewBackward>)\n",
            "tensor([[ -2.4594,  -9.6938,  -8.2282,  -3.8457,  -9.0175,  -9.6389,  -6.1866,\n",
            "          -6.9128,  -6.8047,  -8.8928,  -7.0381,  -9.5701,  -9.2589,  -8.6201,\n",
            "         -10.1623,  -9.3785,  -6.8191,  -9.2251,  -8.2567,  -9.4448,  -7.8434,\n",
            "          -9.6672,  -3.2652,  -7.3504,  -4.1140,  -9.0704,  -9.9729,  -5.7773,\n",
            "          -8.6205,  -4.0585,  -9.1987,  -8.9100,  -4.0191,  -9.0421,  -3.9503,\n",
            "          -9.6111,  -6.2414,  -4.0032,  -6.3090,  -3.8273,  -6.7995,  -3.0310,\n",
            "          -9.1468,  -4.3838,  -4.6955,  -4.0341,  -7.7964,  -3.4544,  -3.7016,\n",
            "          -2.6155,  -9.6803,  -3.3835,  -9.5808,  -9.6636,  -3.8320,  -4.5757,\n",
            "          -7.2369,  -3.4529,  -3.8988,  -9.2857,  -9.1334,  -5.8144,  -9.2582,\n",
            "          -2.3488,  -2.8106,  -3.2329,  -3.9348,  -5.0273,  -7.8310,  -9.9220,\n",
            "          -8.7519,  -8.7724,  -3.2005,  -4.6813,  -4.6770,  -9.8009,  -3.9661,\n",
            "          -8.3333,  -2.5203,  -9.3827, -10.0052,  -8.3776,  -9.2008,  -9.3065,\n",
            "          -9.0998,  -8.8489,  -8.8477,  -9.2289,  -9.3751,  -8.7240,  -9.1089,\n",
            "          -9.5398,  -6.6901,  -8.0499,  -9.0412,  -9.2723,  -9.1029,  -9.5684,\n",
            "          -8.9907,  -9.4159,  -9.5141,  -9.2304,  -9.2837,  -9.0989,  -9.7480,\n",
            "          -8.9541,  -9.1344,  -9.8265,  -9.1431,  -9.8320,  -9.9040,  -9.7890,\n",
            "          -8.9817,  -9.3629,  -9.7239,  -9.2119,  -9.5698,  -9.5143,  -9.0583,\n",
            "          -9.5359,  -8.8040,  -9.1174,  -9.8064,  -9.6430,  -9.3977,  -9.7137,\n",
            "          -9.4958,  -9.2756,  -9.6687]], device='cuda:0',\n",
            "       grad_fn=<ViewBackward>)\n",
            "tensor([[ -2.2035, -10.0493,  -8.5105,  -3.8892,  -9.2977,  -9.9532,  -6.4191,\n",
            "          -7.0720,  -6.9413,  -9.1328,  -7.2710,  -9.9440,  -9.5145,  -8.8981,\n",
            "         -10.5353,  -9.6900,  -7.0299,  -9.5861,  -8.5263,  -9.7801,  -8.0609,\n",
            "         -10.0243,  -3.3270,  -7.6008,  -4.1508,  -9.4010, -10.3231,  -5.9221,\n",
            "          -8.9040,  -4.1155,  -9.4511,  -9.2432,  -4.0741,  -9.3001,  -3.9331,\n",
            "          -9.8625,  -6.4042,  -4.0264,  -6.3792,  -3.8648,  -6.9572,  -3.0387,\n",
            "          -9.4824,  -4.4985,  -4.8177,  -4.1205,  -8.0745,  -3.5145,  -3.6427,\n",
            "          -2.6820, -10.0254,  -3.4152,  -9.9220, -10.0047,  -3.8806,  -4.6995,\n",
            "          -7.3893,  -3.4770,  -3.9729,  -9.5682,  -9.4239,  -5.8815,  -9.5909,\n",
            "          -2.2867,  -2.8179,  -3.1470,  -3.9873,  -5.0905,  -8.0461, -10.2469,\n",
            "          -9.1135,  -9.0830,  -3.2352,  -4.7853,  -4.7600, -10.1324,  -4.0140,\n",
            "          -8.6078,  -2.5497,  -9.6933, -10.3657,  -8.6602,  -9.4050,  -9.6140,\n",
            "          -9.3581,  -9.0750,  -9.0915,  -9.5137,  -9.6257,  -9.0070,  -9.4424,\n",
            "          -9.8413,  -6.8232,  -8.2617,  -9.3629,  -9.6112,  -9.3584,  -9.9051,\n",
            "          -9.3170,  -9.7811,  -9.8509,  -9.5271,  -9.6167,  -9.4229, -10.0679,\n",
            "          -9.2280,  -9.3754, -10.1563,  -9.4958, -10.1744, -10.2001, -10.0921,\n",
            "          -9.3448,  -9.6933, -10.0455,  -9.4907,  -9.9004,  -9.8374,  -9.3067,\n",
            "          -9.8425,  -9.0629,  -9.4465, -10.1716,  -9.9762,  -9.7200, -10.0613,\n",
            "          -9.8085,  -9.5447,  -9.9662]], device='cuda:0',\n",
            "       grad_fn=<ViewBackward>)\n",
            "INDIA - लीी\n"
          ],
          "name": "stdout"
        },
        {
          "output_type": "execute_result",
          "data": {
            "text/plain": [
              "'लीी'"
            ]
          },
          "metadata": {
            "tags": []
          },
          "execution_count": 43
        }
      ]
    },
    {
      "cell_type": "code",
      "metadata": {
        "id": "r-cvyedcINWE"
      },
      "source": [
        "def calc_accuracy(net, device = 'cpu'):\n",
        "    net = net.eval().to(device)\n",
        "    predictions = []\n",
        "    accuracy = 0\n",
        "    for i in range(len(test_data)):\n",
        "        eng, hindi = test_data[i]\n",
        "        gt = gt_rep(hindi, hindi_alpha2index, device)\n",
        "        outputs = infer(net, eng, gt.shape[0], device)\n",
        "        correct = 0\n",
        "        for index, out in enumerate(outputs):\n",
        "            val, indices = out.topk(1)\n",
        "            hindi_pos = indices.tolist()[0]\n",
        "            if hindi_pos[0] == gt[index][0]:\n",
        "                correct += 1\n",
        "\n",
        "        accuracy += correct/gt.shape[0]\n",
        "    accuracy /= len(test_data)\n",
        "    return accuracy"
      ],
      "execution_count": null,
      "outputs": []
    },
    {
      "cell_type": "code",
      "metadata": {
        "id": "jhPVtdqSIOuL",
        "colab": {
          "base_uri": "https://localhost:8080/",
          "height": 51
        },
        "outputId": "fa03112a-a940-415d-c39e-9a843760e001"
      },
      "source": [
        "accuracy = calc_accuracy(net) * 100\n",
        "accuracy_attn = calc_accuracy(net_att) * 100\n",
        "print('Accuracy w/o attention ', accuracy)\n",
        "print('Acurracy with attention', accuracy_attn)"
      ],
      "execution_count": null,
      "outputs": [
        {
          "output_type": "stream",
          "text": [
            "Accuracy w/o attention  20.561708291708243\n",
            "Acurracy with attention 18.525741480741456\n"
          ],
          "name": "stdout"
        }
      ]
    },
    {
      "cell_type": "code",
      "metadata": {
        "id": "U6FYAh-0InMi"
      },
      "source": [
        "new_net=torch.load('/content/model_full_teacher_force.pt')"
      ],
      "execution_count": null,
      "outputs": []
    }
  ]
}